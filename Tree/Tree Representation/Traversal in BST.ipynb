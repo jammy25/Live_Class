{
 "cells": [
  {
   "cell_type": "markdown",
   "id": "709531f3",
   "metadata": {},
   "source": [
    "## Inorder, preorder & postorder via Recursion"
   ]
  },
  {
   "cell_type": "code",
   "execution_count": 27,
   "id": "2f107a72",
   "metadata": {},
   "outputs": [
    {
     "name": "stdout",
     "output_type": "stream",
     "text": [
      "Inorder\n",
      "20 -> 30 -> 40 -> 50 -> 60 -> 70 -> 80 -> X\n",
      "postorder\n",
      "20 -> 40 -> 30 -> 60 -> 80 -> 70 -> 50 -> X\n",
      "preorder\n",
      "50 -> 30 -> 20 -> 40 -> 70 -> 60 -> 80 -> X\n"
     ]
    }
   ],
   "source": [
    "class Node:\n",
    "    def __init__(self, key):\n",
    "        self.left = None\n",
    "        self.right = None\n",
    "        self.data = key\n",
    "        \n",
    "def insert(root, key):\n",
    "    if root is None:\n",
    "        return Node(key)\n",
    "    else:\n",
    "        if root.data == key:\n",
    "            return root\n",
    "        elif root.data > key:\n",
    "            root.left = insert(root.left, key)\n",
    "        else:\n",
    "            root.right = insert(root.right, key)\n",
    "    return root\n",
    "\n",
    "def inorder(root):\n",
    "    if root:\n",
    "        inorder(root.left)\n",
    "        print(root.data, end = ' -> ')\n",
    "        inorder(root.right)\n",
    "\n",
    "def preorder(root):\n",
    "    if root:\n",
    "        print(root.data, end = ' -> ')\n",
    "        preorder(root.left)\n",
    "        preorder(root.right)\n",
    "        \n",
    "def postorder(root):\n",
    "    if root:\n",
    "        postorder(root.left)\n",
    "        postorder(root.right)\n",
    "        print(root.data, end = ' -> ')\n",
    "    \n",
    "r = Node(50)\n",
    "r = insert(r, 30)\n",
    "r = insert(r, 20)\n",
    "r = insert(r, 40)\n",
    "r = insert(r, 70)\n",
    "r = insert(r, 60)\n",
    "r = insert(r, 80)\n",
    "\n",
    "print('Inorder')\n",
    "inorder(r)\n",
    "print('X')\n",
    "print('postorder')\n",
    "postorder(r)\n",
    "print('X')\n",
    "print('preorder')\n",
    "preorder(r)\n",
    "print('X')"
   ]
  },
  {
   "cell_type": "markdown",
   "id": "e7bd2d1a",
   "metadata": {},
   "source": [
    "## Inorder, preorder & postorder via iteration"
   ]
  },
  {
   "cell_type": "code",
   "execution_count": 8,
   "id": "2c78a86e",
   "metadata": {},
   "outputs": [
    {
     "name": "stdout",
     "output_type": "stream",
     "text": [
      "20 -> 30 -> 40 -> 50 -> 60 -> 70 -> 80 -> "
     ]
    }
   ],
   "source": [
    "# Using Stack is the obvious way to traverse tree without recursion.\n",
    "\n",
    "class Node:\n",
    "    \n",
    "    # constructor to create a new node\n",
    "    def __init__ (self, key):\n",
    "        self.left = None\n",
    "        self.right = None\n",
    "        self.data = key\n",
    "        \n",
    "def inorder(root):\n",
    "    ptr = root\n",
    "    stack = []\n",
    "    \n",
    "    while True:\n",
    "        if ptr is not None:\n",
    "            stack.append(ptr)\n",
    "            ptr = ptr.left\n",
    "        elif(stack):\n",
    "            ptr = stack.pop()\n",
    "            print(ptr.data, end = ' -> ')\n",
    "            ptr = ptr.right\n",
    "        else:\n",
    "            break\n",
    "#     print()\n",
    "            \n",
    "def insert(root, key):\n",
    "    if root is None:\n",
    "        return Node(key)\n",
    "    else:\n",
    "        if root == key:\n",
    "            return\n",
    "        elif root.data > key:\n",
    "            root.left = insert(root.left, key)\n",
    "        else:\n",
    "            root.right = insert(root.right, key)\n",
    "    return root\n",
    "\n",
    "root = Node(50)\n",
    "root = insert(root, 30)\n",
    "root = insert(root, 20)\n",
    "root = insert(root, 40)\n",
    "root = insert(root, 70)\n",
    "root = insert(root, 60)\n",
    "root = insert(root, 80)\n",
    "\n",
    "inorder(root)"
   ]
  },
  {
   "cell_type": "code",
   "execution_count": null,
   "id": "a917f6d2",
   "metadata": {},
   "outputs": [],
   "source": []
  }
 ],
 "metadata": {
  "kernelspec": {
   "display_name": "Python 3 (ipykernel)",
   "language": "python",
   "name": "python3"
  },
  "language_info": {
   "codemirror_mode": {
    "name": "ipython",
    "version": 3
   },
   "file_extension": ".py",
   "mimetype": "text/x-python",
   "name": "python",
   "nbconvert_exporter": "python",
   "pygments_lexer": "ipython3",
   "version": "3.9.10"
  }
 },
 "nbformat": 4,
 "nbformat_minor": 5
}
