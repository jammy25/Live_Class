{
 "cells": [
  {
   "cell_type": "code",
   "execution_count": 6,
   "id": "ce7bd550",
   "metadata": {},
   "outputs": [
    {
     "name": "stdout",
     "output_type": "stream",
     "text": [
      "current size:  3\n",
      "3\n",
      "2\n",
      "1\n",
      "current size:  1\n"
     ]
    }
   ],
   "source": [
    "# Program to implement a stack using\n",
    "# two queue\n",
    "\n",
    "# TC: push -> O(n) pop -> O(1)\n",
    "# SC: O(n)\n",
    "\n",
    "from collections import deque\n",
    "\n",
    "class Stack:\n",
    "    def __init__(self):\n",
    "        \n",
    "        # Two in-built queues\n",
    "        self.q1 = deque()\n",
    "        self.q2 = deque()\n",
    "        \n",
    "    def push(self, x):\n",
    "        \n",
    "        # Push x first in empty q2\n",
    "        self.q2.append(x)\n",
    "        \n",
    "        # Push all the remaining\n",
    "        # elements in q1 to q2.\n",
    "        while (self.q1):\n",
    "            self.q2.append(self.q1.popleft())\n",
    "            \n",
    "        # swap the names of the two queues\n",
    "        self.q1 , self.q2 = self.q2, self.q1\n",
    "        \n",
    "    def pop(self):\n",
    "        \n",
    "        # if no elements are there in the queues\n",
    "        if self.q1:\n",
    "            self.q1.popleft()\n",
    "            \n",
    "    def top(self):\n",
    "        if (self.q1):\n",
    "            return self.q1[0]\n",
    "        return None\n",
    "    \n",
    "    def size(self):\n",
    "        return len(self.q1)\n",
    "    \n",
    "# Driver Code\n",
    "if __name__ == '__main__':\n",
    "    \n",
    "    s = Stack()\n",
    "    s.push(1)\n",
    "    s.push(2)\n",
    "    s.push(3)\n",
    "    \n",
    "    print(\"current size: \", s.size())\n",
    "    print(s.top())\n",
    "    s.pop()\n",
    "    print(s.top())\n",
    "    s.pop()\n",
    "    print(s.top())\n",
    "    print(\"current size: \", s.size())"
   ]
  },
  {
   "cell_type": "code",
   "execution_count": null,
   "id": "1a64a25e",
   "metadata": {},
   "outputs": [],
   "source": []
  }
 ],
 "metadata": {
  "kernelspec": {
   "display_name": "Python 3 (ipykernel)",
   "language": "python",
   "name": "python3"
  },
  "language_info": {
   "codemirror_mode": {
    "name": "ipython",
    "version": 3
   },
   "file_extension": ".py",
   "mimetype": "text/x-python",
   "name": "python",
   "nbconvert_exporter": "python",
   "pygments_lexer": "ipython3",
   "version": "3.9.10"
  }
 },
 "nbformat": 4,
 "nbformat_minor": 5
}
