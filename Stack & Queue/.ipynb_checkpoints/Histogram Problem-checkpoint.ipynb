{
 "cells": [
  {
   "cell_type": "code",
   "execution_count": 30,
   "id": "1a20b159",
   "metadata": {},
   "outputs": [
    {
     "name": "stdout",
     "output_type": "stream",
     "text": [
      "7\n"
     ]
    }
   ],
   "source": [
    "def max_area_histogram(heights):\n",
    "    heights.append(0)\n",
    "    n = len(heights)\n",
    "    max_area = 0\n",
    "    pstack, hstack = [], []\n",
    "    \n",
    "    for i in range(n):\n",
    "        last_width = n + 1\n",
    "        while (pstack and hstack[-1] > heights[i]):\n",
    "            last_width = pstack[-1]\n",
    "            max_area = max(max_area, (i - pstack.pop()) * hstack.pop())\n",
    "            \n",
    "        if (not hstack or heights[i] > hstack[-1]):\n",
    "            pstack.append(min(i, last_width))\n",
    "            hstack.append(heights[i])\n",
    "    return max_area\n",
    "\n",
    "# Driver Code\n",
    "if __name__ == '__main__':\n",
    "    heights = [2, 2, 1, 3, 4, 1, 2]\n",
    "#     heights = [6, 2, 5, 4, 5, 1, 6]\n",
    "    print(max_area_histogram(heights))"
   ]
  }
 ],
 "metadata": {
  "kernelspec": {
   "display_name": "Python 3 (ipykernel)",
   "language": "python",
   "name": "python3"
  },
  "language_info": {
   "codemirror_mode": {
    "name": "ipython",
    "version": 3
   },
   "file_extension": ".py",
   "mimetype": "text/x-python",
   "name": "python",
   "nbconvert_exporter": "python",
   "pygments_lexer": "ipython3",
   "version": "3.9.10"
  }
 },
 "nbformat": 4,
 "nbformat_minor": 5
}
