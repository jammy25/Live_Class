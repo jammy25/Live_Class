{
 "cells": [
  {
   "cell_type": "code",
   "execution_count": 7,
   "id": "42deb717",
   "metadata": {},
   "outputs": [
    {
     "name": "stdout",
     "output_type": "stream",
     "text": [
      "-1\n",
      "3\n",
      "5\n"
     ]
    }
   ],
   "source": [
    "class MinStack:\n",
    "    def __init__(self):\n",
    "        self.stack = []\n",
    "        self.min = float('-inf')\n",
    "        \n",
    "    def push(self, val):\n",
    "        if not self.stack or val >= self.min:\n",
    "            if not self.stack:\n",
    "                self.min = val\n",
    "            self.stack.append(val)\n",
    "        if val < self.min:\n",
    "            self.stack.append(2*val - self.min)\n",
    "            self.min = val\n",
    "            \n",
    "    def pop(self):\n",
    "        if self.stack[-1] < self.min:\n",
    "            val =self.min\n",
    "            self.min = 2*self.min - self.stack.pop()\n",
    "            return\n",
    "        self.stack.pop()\n",
    "    \n",
    "    def top(self):\n",
    "        if self.stack[-1] < self.min:\n",
    "            return self.min\n",
    "        return self.stack[-1]\n",
    "    \n",
    "    def getMin(self):\n",
    "        return self.min\n",
    "    \n",
    "# Driver Code\n",
    "\n",
    "if __name__ == '__main__':\n",
    "    \n",
    "    stack = MinStack()\n",
    "    stack.push(3)\n",
    "    stack.push(5)\n",
    "    stack.push(2)\n",
    "    stack.push(1)\n",
    "    stack.push(1)\n",
    "    stack.push(-1)\n",
    "    \n",
    "    print(stack.getMin())\n",
    "    \n",
    "    stack.pop()\n",
    "    stack.pop()\n",
    "    stack.pop()\n",
    "    stack.pop()\n",
    "    \n",
    "    print(stack.getMin())\n",
    "    print(stack.top())"
   ]
  }
 ],
 "metadata": {
  "kernelspec": {
   "display_name": "Python 3 (ipykernel)",
   "language": "python",
   "name": "python3"
  },
  "language_info": {
   "codemirror_mode": {
    "name": "ipython",
    "version": 3
   },
   "file_extension": ".py",
   "mimetype": "text/x-python",
   "name": "python",
   "nbconvert_exporter": "python",
   "pygments_lexer": "ipython3",
   "version": "3.9.10"
  }
 },
 "nbformat": 4,
 "nbformat_minor": 5
}
