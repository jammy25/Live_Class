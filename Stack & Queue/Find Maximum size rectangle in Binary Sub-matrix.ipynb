{
 "cells": [
  {
   "cell_type": "code",
   "execution_count": 4,
   "id": "c040e8a2",
   "metadata": {},
   "outputs": [
    {
     "name": "stdout",
     "output_type": "stream",
     "text": [
      "6\n"
     ]
    }
   ],
   "source": [
    "def histogram(heights):\n",
    "    pstack, hstack = [], []\n",
    "    heights.append(0)\n",
    "    h = len(heights)\n",
    "    max_area = 0\n",
    "    \n",
    "    for i in range(h):\n",
    "        last_width = h + 1\n",
    "        while pstack and hstack[-1] > heights[i]:\n",
    "            last_width = pstack[-1]\n",
    "            max_area = max(max_area, (i - pstack.pop()) * hstack.pop())\n",
    "    \n",
    "        if not pstack or heights[i] >= hstack[-1]:\n",
    "            pstack.append(min(i, last_width))\n",
    "            hstack.append(heights[i])\n",
    "    \n",
    "    return max_area\n",
    "\n",
    "def max_rectangle(matrix):\n",
    "    if not matrix:\n",
    "        return 0\n",
    "    m, n = len(matrix), len(matrix[0])\n",
    "    max_area = histogram(matrix[0])\n",
    "    \n",
    "    for i in range(1, m):\n",
    "        for j in range(n):\n",
    "            if (matrix[i][j]):\n",
    "                matrix[i][j] = matrix[i][j] + matrix[i - 1][j]\n",
    "        max_area = max(max_area, histogram(matrix[i]))\n",
    "    return max_area\n",
    "\n",
    "# Driver Code\n",
    "\n",
    "if __name__ == '__main__':\n",
    "    matrix = [[1, 0, 1, 0, 0],\n",
    "              [1, 0, 1, 1, 1],\n",
    "              [1, 1, 1, 1, 1],\n",
    "              [1, 0, 0, 1, 0]]\n",
    "    print(max_rectangle(matrix))"
   ]
  }
 ],
 "metadata": {
  "kernelspec": {
   "display_name": "Python 3 (ipykernel)",
   "language": "python",
   "name": "python3"
  },
  "language_info": {
   "codemirror_mode": {
    "name": "ipython",
    "version": 3
   },
   "file_extension": ".py",
   "mimetype": "text/x-python",
   "name": "python",
   "nbconvert_exporter": "python",
   "pygments_lexer": "ipython3",
   "version": "3.9.10"
  }
 },
 "nbformat": 4,
 "nbformat_minor": 5
}
