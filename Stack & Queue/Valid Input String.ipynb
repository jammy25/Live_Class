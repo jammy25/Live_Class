{
 "cells": [
  {
   "cell_type": "code",
   "execution_count": 2,
   "id": "c71f3df1",
   "metadata": {},
   "outputs": [
    {
     "name": "stdout",
     "output_type": "stream",
     "text": [
      "True\n"
     ]
    }
   ],
   "source": [
    "def valid_paranthese(expr):\n",
    "    stack = []\n",
    "    \n",
    "    for char in expr:\n",
    "        if char in [\"(\", \"{\", \"[\"]:\n",
    "            stack.append(char)\n",
    "        else:\n",
    "            if not stack:\n",
    "                return False\n",
    "            current_char = stack.pop()\n",
    "            if current_char == \"(\":\n",
    "                if char != \")\":\n",
    "                    return False\n",
    "            if current_char == \"{\":\n",
    "                if char != \"}\":\n",
    "                    return False\n",
    "            if current_char == \"[\":\n",
    "                if char != \"]\":\n",
    "                    return False\n",
    "                \n",
    "    if stack:\n",
    "        return False\n",
    "    return True\n",
    "\n",
    "# Driver Code\n",
    "\n",
    "if __name__ == '__main__':\n",
    "    \n",
    "    expr = \"{()}[]\"\n",
    "    \n",
    "    print(valid_paranthese(expr))\n",
    "    \n",
    "#     if valid_paranthese(expr):\n",
    "#         print(\"Balanced\")\n",
    "#     else:\n",
    "#         print(\"Unbalanced\")"
   ]
  }
 ],
 "metadata": {
  "kernelspec": {
   "display_name": "Python 3 (ipykernel)",
   "language": "python",
   "name": "python3"
  },
  "language_info": {
   "codemirror_mode": {
    "name": "ipython",
    "version": 3
   },
   "file_extension": ".py",
   "mimetype": "text/x-python",
   "name": "python",
   "nbconvert_exporter": "python",
   "pygments_lexer": "ipython3",
   "version": "3.9.10"
  }
 },
 "nbformat": 4,
 "nbformat_minor": 5
}
