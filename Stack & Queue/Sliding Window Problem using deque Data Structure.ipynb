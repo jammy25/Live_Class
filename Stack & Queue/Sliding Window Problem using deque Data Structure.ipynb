{
 "cells": [
  {
   "cell_type": "code",
   "execution_count": 9,
   "id": "284f2bf0",
   "metadata": {},
   "outputs": [
    {
     "name": "stdout",
     "output_type": "stream",
     "text": [
      "[10, 10, 10, 17, 17, 87, 87]\n",
      "[3, 3, 4, 5, 5, 5, 6]\n",
      "[10, 10, 10, 15, 15, 90, 90]\n"
     ]
    }
   ],
   "source": [
    "from collections import deque\n",
    "\n",
    "def max_k_subarray(nums, k):\n",
    "    res, queue = [], deque()\n",
    "    \n",
    "    for i in range(k):\n",
    "        while queue and nums[queue[-1]] <= nums[i]:\n",
    "            queue.pop()\n",
    "        queue.append(i)\n",
    "        \n",
    "    for i in range(k, len(nums)):\n",
    "        res.append(nums[queue[0]])\n",
    "        while queue and (queue[0] + k <= i):\n",
    "            queue.popleft()\n",
    "        while queue and nums[queue[-1]] <= nums[i]:\n",
    "            queue.pop()\n",
    "        queue.append(i)\n",
    "    res.append(nums[queue[0]])\n",
    "    return res\n",
    "\n",
    "# Driver Code\n",
    "\n",
    "if __name__ == '__main__':\n",
    "    \n",
    "    tc = [[[8, 6, 10, 7, 5, 17, 14, 87, 15], 3],\n",
    "         [[1, 2, 3, 1, 4, 5, 2, 3, 6], 3],\n",
    "         [[8, 5, 10, 7, 9, 4, 15, 12, 90, 13], 4]]\n",
    "    \n",
    "    for nums, k in tc:\n",
    "        print(max_k_subarray(nums, k))                        "
   ]
  }
 ],
 "metadata": {
  "kernelspec": {
   "display_name": "Python 3 (ipykernel)",
   "language": "python",
   "name": "python3"
  },
  "language_info": {
   "codemirror_mode": {
    "name": "ipython",
    "version": 3
   },
   "file_extension": ".py",
   "mimetype": "text/x-python",
   "name": "python",
   "nbconvert_exporter": "python",
   "pygments_lexer": "ipython3",
   "version": "3.9.10"
  }
 },
 "nbformat": 4,
 "nbformat_minor": 5
}
