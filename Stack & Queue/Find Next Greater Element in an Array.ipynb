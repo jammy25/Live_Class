{
 "cells": [
  {
   "cell_type": "markdown",
   "id": "f1292db2",
   "metadata": {},
   "source": [
    "# Next Greater Element 1 "
   ]
  },
  {
   "cell_type": "markdown",
   "id": "e039e131",
   "metadata": {},
   "source": [
    "### Leetcode Question\n",
    "The next greater element of some element x in an array is the first greater element that is to the right of x in the same array.\n",
    "\n",
    "You are given two distinct 0-indexed integer arrays nums1 and nums2, where nums1 is a subset of nums2.\n",
    "\n",
    "For each 0 <= i < nums1.length, find the index j such that nums1[i] == nums2[j] and determine the next greater element of nums2[j] in nums2. If there is no next greater element, then the answer for this query is -1.\n",
    "\n",
    "Return an array ans of length nums1.length such that ans[i] is the next greater element as described above.\n",
    "\n",
    " \n",
    "\n",
    "Example 1:\n",
    "\n",
    "Input: nums1 = [4,1,2], nums2 = [1,3,4,2]\n",
    "Output: [-1,3,-1]\n",
    "Explanation: The next greater element for each value of nums1 is as follows:\n",
    "- 4 is underlined in nums2 = [1,3,4,2]. There is no next greater element, so the answer is -1.\n",
    "- 1 is underlined in nums2 = [1,3,4,2]. The next greater element is 3.\n",
    "- 2 is underlined in nums2 = [1,3,4,2]. There is no next greater element, so the answer is -1.\n",
    "\n",
    "Example 2:\n",
    "\n",
    "Input: nums1 = [2,4], nums2 = [1,2,3,4]\n",
    "Output: [3,-1]\n",
    "Explanation: The next greater element for each value of nums1 is as follows:\n",
    "- 2 is underlined in nums2 = [1,2,3,4]. The next greater element is 3.\n",
    "- 4 is underlined in nums2 = [1,2,3,4]. There is no next greater element, so the answer is -1.\n",
    " \n",
    "\n",
    "Constraints:\n",
    "\n",
    "1 <= nums1.length <= nums2.length <= 1000\n",
    "0 <= nums1[i], nums2[i] <= 104\n",
    "All integers in nums1 and nums2 are unique.\n",
    "All the integers of nums1 also appear in nums2."
   ]
  },
  {
   "cell_type": "code",
   "execution_count": 20,
   "id": "f46aa9b1",
   "metadata": {},
   "outputs": [
    {
     "name": "stdout",
     "output_type": "stream",
     "text": [
      "[-1, 3, -1]\n",
      "[3, -1]\n"
     ]
    }
   ],
   "source": [
    "def NextGreaterElement(nums1, nums2):\n",
    "    hashmap = {}\n",
    "    stack, res = [], []\n",
    "    n = len(nums2)\n",
    "    \n",
    "    for i in range(n - 1, -1, -1):\n",
    "        while stack and stack[-1] <= nums2[i]:\n",
    "            stack.pop()\n",
    "        if not stack:\n",
    "            hashmap[nums2[i]] = -1\n",
    "        else:\n",
    "            hashmap[nums2[i]] = stack[-1]\n",
    "#         hashmap[nums2[i]] = -1 if not stack else stack[-1]\n",
    "        stack.append(nums2[i])\n",
    "    for i in nums1:\n",
    "        res.append(hashmap[i])\n",
    "    return res\n",
    "\n",
    "# Driver Code\n",
    "\n",
    "if __name__ == '__main__':\n",
    "    \n",
    "    test_cases = [[[4,1,2], [1,3,4,2]],\n",
    "                  [[2,4],[1,2,3,4]]]\n",
    "    \n",
    "    for nums1, nums2 in test_cases:\n",
    "        print(NextGreaterElement(nums1, nums2))"
   ]
  }
 ],
 "metadata": {
  "kernelspec": {
   "display_name": "Python 3 (ipykernel)",
   "language": "python",
   "name": "python3"
  },
  "language_info": {
   "codemirror_mode": {
    "name": "ipython",
    "version": 3
   },
   "file_extension": ".py",
   "mimetype": "text/x-python",
   "name": "python",
   "nbconvert_exporter": "python",
   "pygments_lexer": "ipython3",
   "version": "3.9.10"
  }
 },
 "nbformat": 4,
 "nbformat_minor": 5
}
