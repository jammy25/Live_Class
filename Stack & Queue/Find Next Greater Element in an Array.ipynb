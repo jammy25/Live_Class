{
 "cells": [
  {
   "cell_type": "markdown",
   "id": "0f3431d0",
   "metadata": {},
   "source": [
    "## Next Greater Element 1 "
   ]
  },
  {
   "cell_type": "markdown",
   "id": "7f992d1c",
   "metadata": {},
   "source": [
    "### Leetcode Question\n",
    "The next greater element of some element x in an array is the first greater element that is to the right of x in the same array.\n",
    "\n",
    "You are given two distinct 0-indexed integer arrays nums1 and nums2, where nums1 is a subset of nums2.\n",
    "\n",
    "For each 0 <= i < nums1.length, find the index j such that nums1[i] == nums2[j] and determine the next greater element of nums2[j] in nums2. If there is no next greater element, then the answer for this query is -1.\n",
    "\n",
    "Return an array ans of length nums1.length such that ans[i] is the next greater element as described above.\n",
    "\n",
    " \n",
    "\n",
    "Example 1:\n",
    "\n",
    "Input: nums1 = [4,1,2], nums2 = [1,3,4,2]\n",
    "Output: [-1,3,-1]\n",
    "Explanation: The next greater element for each value of nums1 is as follows:\n",
    "- 4 is underlined in nums2 = [1,3,4,2]. There is no next greater element, so the answer is -1.\n",
    "- 1 is underlined in nums2 = [1,3,4,2]. The next greater element is 3.\n",
    "- 2 is underlined in nums2 = [1,3,4,2]. There is no next greater element, so the answer is -1.\n",
    "\n",
    "Example 2:\n",
    "\n",
    "Input: nums1 = [2,4], nums2 = [1,2,3,4]\n",
    "Output: [3,-1]\n",
    "Explanation: The next greater element for each value of nums1 is as follows:\n",
    "- 2 is underlined in nums2 = [1,2,3,4]. The next greater element is 3.\n",
    "- 4 is underlined in nums2 = [1,2,3,4]. There is no next greater element, so the answer is -1.\n",
    " \n",
    "\n",
    "Constraints:\n",
    "\n",
    "1 <= nums1.length <= nums2.length <= 1000\n",
    "0 <= nums1[i], nums2[i] <= 104\n",
    "All integers in nums1 and nums2 are unique.\n",
    "All the integers of nums1 also appear in nums2."
   ]
  },
  {
   "cell_type": "code",
   "execution_count": 23,
   "id": "df8dd599",
   "metadata": {},
   "outputs": [
    {
     "name": "stdout",
     "output_type": "stream",
     "text": [
      "[-1, 3, -1]\n",
      "[3, -1]\n"
     ]
    }
   ],
   "source": [
    "# TC: O(n)\n",
    "# SC: O(n)\n",
    "\n",
    "def NextGreaterElement(nums1, nums2):\n",
    "    hashmap = {}\n",
    "    stack, res = [], []\n",
    "    n = len(nums2)\n",
    "    \n",
    "    for i in range(n - 1, -1, -1):\n",
    "        while stack and stack[-1] <= nums2[i]:\n",
    "            stack.pop()\n",
    "        if not stack:\n",
    "            hashmap[nums2[i]] = -1\n",
    "        else:\n",
    "            hashmap[nums2[i]] = stack[-1]\n",
    "#         hashmap[nums2[i]] = -1 if not stack else stack[-1]\n",
    "        stack.append(nums2[i])\n",
    "    for i in nums1:\n",
    "        res.append(hashmap[i])\n",
    "    return res\n",
    "\n",
    "# Driver Code\n",
    "\n",
    "if __name__ == '__main__':\n",
    "    \n",
    "    test_cases = [[[4,1,2], [1,3,4,2]],\n",
    "                  [[2,4],[1,2,3,4]]]\n",
    "    \n",
    "    for nums1, nums2 in test_cases:\n",
    "        print(NextGreaterElement(nums1, nums2))"
   ]
  },
  {
   "cell_type": "markdown",
   "id": "990355aa",
   "metadata": {},
   "source": [
    "## Next Greater Element 2"
   ]
  },
  {
   "cell_type": "markdown",
   "id": "76b4f1b3",
   "metadata": {},
   "source": [
    "### Leetcode Question\n",
    "Given a circular integer array nums (i.e., the next element of nums[nums.length - 1] is nums[0]), return the next greater number for every element in nums.\n",
    "\n",
    "The next greater number of a number x is the first greater number to its traversing-order next in the array, which means you could search circularly to find its next greater number. If it doesn't exist, return -1 for this number.\n",
    "\n",
    " \n",
    "\n",
    "Example 1:\n",
    "\n",
    "Input: nums = [1,2,1]\n",
    "Output: [2,-1,2]\n",
    "Explanation: The first 1's next greater number is 2; \n",
    "The number 2 can't find next greater number. \n",
    "The second 1's next greater number needs to search circularly, which is also 2.\n",
    "Example 2:\n",
    "\n",
    "Input: nums = [1,2,3,4,3]\n",
    "Output: [2,3,4,-1,4]\n",
    " \n",
    "\n",
    "Constraints:\n",
    "\n",
    "1 <= nums.length <= 104\n",
    "-109 <= nums[i] <= 109"
   ]
  },
  {
   "cell_type": "code",
   "execution_count": 5,
   "id": "0f2d2a58",
   "metadata": {},
   "outputs": [
    {
     "name": "stdout",
     "output_type": "stream",
     "text": [
      "[2, 3, 4, -1, 4]\n"
     ]
    }
   ],
   "source": [
    "def NextGreaterElement(nums):\n",
    "    hashmap = {}\n",
    "    n = len(nums)\n",
    "    stack = [nums[-1]]\n",
    "    res = [-1] * n\n",
    "    for i in range (2*n - 1, -1, -1):\n",
    "        while stack and nums[i % n] >= stack[-1]:\n",
    "            stack.pop()\n",
    "        if stack:\n",
    "            res[i % n] = stack[-1]\n",
    "        else:\n",
    "            res[i % n] = -1\n",
    "        stack.append(nums[i % n])\n",
    "    return res\n",
    "\n",
    "# Driver Code\n",
    "\n",
    "if __name__ == '__main__':\n",
    "    \n",
    "    arr = [1, 2, 3, 4, 3]\n",
    "    print(NextGreaterElement(arr))"
   ]
  }
 ],
 "metadata": {
  "kernelspec": {
   "display_name": "Python 3 (ipykernel)",
   "language": "python",
   "name": "python3"
  },
  "language_info": {
   "codemirror_mode": {
    "name": "ipython",
    "version": 3
   },
   "file_extension": ".py",
   "mimetype": "text/x-python",
   "name": "python",
   "nbconvert_exporter": "python",
   "pygments_lexer": "ipython3",
   "version": "3.9.10"
  }
 },
 "nbformat": 4,
 "nbformat_minor": 5
}
