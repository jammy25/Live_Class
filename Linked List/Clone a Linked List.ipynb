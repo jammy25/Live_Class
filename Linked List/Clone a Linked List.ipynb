{
 "cells": [
  {
   "cell_type": "code",
   "execution_count": 24,
   "id": "f4249d49",
   "metadata": {},
   "outputs": [
    {
     "name": "stdout",
     "output_type": "stream",
     "text": [
      "3 (5) --> 4 (3) --> 5 (7) --> 6 (7) --> 7 (4) --> X\n",
      "3 (5) --> 4 (3) --> 5 (7) --> 6 (7) --> 7 (4) --> X\n"
     ]
    }
   ],
   "source": [
    "# TC: O(n)\n",
    "# SC: O(1) Auxillary space\n",
    "\n",
    "class Node:\n",
    "    def __init__(self, data):\n",
    "        self.next = self.random = None\n",
    "        self.data = data\n",
    "\n",
    "def display(node):\n",
    "    while node:\n",
    "        if node.random:\n",
    "            print(node.data, f\"({node.random.data})\", end = ' --> ')\n",
    "        else:\n",
    "            print(node.data, '(X)', end = ' --> ')\n",
    "        node = node.next\n",
    "    print('X')\n",
    "    \n",
    "def clone_ll(head):\n",
    "    if not head:\n",
    "        return head\n",
    "    ptr = head\n",
    "    while ptr:\n",
    "        c_ptr = Node(ptr.data)\n",
    "        c_ptr.next = ptr.next\n",
    "        ptr.next = c_ptr\n",
    "        ptr = ptr.next.next\n",
    "    c_head = head.next\n",
    "    ptr = head\n",
    "    while ptr:\n",
    "        if ptr.random:        ptr.next.random = ptr.random.next\n",
    "        else:            ptr.next.random = None\n",
    "        ptr = ptr.next.next\n",
    "    ptr, front = head, head.next.next\n",
    "    while front:\n",
    "        ptr.next.next = front.next\n",
    "        ptr.next = front\n",
    "        ptr = front\n",
    "        front = front.next.next\n",
    "    ptr.next.next = None\n",
    "    ptr.next = None\n",
    "    return c_head\n",
    "\n",
    "# Driver Code\n",
    "if __name__ == '__main__':\n",
    "    head = Node(3)\n",
    "    head.next = Node(4)\n",
    "    head.next.next = Node(5)\n",
    "    head.next.next.next = Node(6)\n",
    "    head.next.next.next.next = Node(7)\n",
    "    \n",
    "    head.random = head.next.next\n",
    "    head.next.random = head\n",
    "    head.next.next.random = head.next.next.next.next\n",
    "    head.next.next.next.random = head.next.next.next.next\n",
    "    head.next.next.next.next.random = head.next.next.next.next\n",
    "    head.next.next.next.next.random = head.next\n",
    "    \n",
    "    display(head)\n",
    "    head1 = clone_ll(head)\n",
    "    display(head1)"
   ]
  },
  {
   "cell_type": "code",
   "execution_count": null,
   "id": "f25550e3",
   "metadata": {},
   "outputs": [],
   "source": []
  }
 ],
 "metadata": {
  "kernelspec": {
   "display_name": "Python 3 (ipykernel)",
   "language": "python",
   "name": "python3"
  },
  "language_info": {
   "codemirror_mode": {
    "name": "ipython",
    "version": 3
   },
   "file_extension": ".py",
   "mimetype": "text/x-python",
   "name": "python",
   "nbconvert_exporter": "python",
   "pygments_lexer": "ipython3",
   "version": "3.9.10"
  }
 },
 "nbformat": 4,
 "nbformat_minor": 5
}
