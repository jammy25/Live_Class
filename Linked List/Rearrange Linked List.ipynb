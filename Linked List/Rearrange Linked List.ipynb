{
 "cells": [
  {
   "cell_type": "code",
   "execution_count": 4,
   "id": "8e606f7b",
   "metadata": {},
   "outputs": [
    {
     "name": "stdout",
     "output_type": "stream",
     "text": [
      "5 -> 1 -> 4 -> 2 -> 3 -> X\n"
     ]
    }
   ],
   "source": [
    "# TC: O(n)\n",
    "# Sc: O(1)\n",
    "\n",
    "class Node:\n",
    "    def __init__(self,data):\n",
    "        self.next = None\n",
    "        self.data = data\n",
    "        \n",
    "def display(node):\n",
    "    while node:\n",
    "        print(node.data, end = ' -> ')\n",
    "        node = node.next\n",
    "    print('X')\n",
    "    \n",
    "def reverselist(head):\n",
    "    prev = post = None\n",
    "    ptr = head\n",
    "    while ptr:\n",
    "        post = ptr.next\n",
    "        ptr.next = prev\n",
    "        prev = ptr\n",
    "        ptr = post\n",
    "    head = prev\n",
    "    return head\n",
    "    \n",
    "def rearrange(head):\n",
    "    \n",
    "    # Find the mid point\n",
    "    slow = fast = head\n",
    "    while fast and fast.next:\n",
    "        slow = slow.next\n",
    "        fast = fast.next.next\n",
    "        \n",
    "    # 2) Split the linked list in two halves\n",
    "    # node1, head of first half    1 -> 2 -> 3\n",
    "    # node2, head of second half   4 -> 5  \n",
    "    node1 = head\n",
    "    node2 = slow.next\n",
    "    slow.next = None\n",
    "    \n",
    "    # Reverse the second half,\n",
    "    # i.e. 5 -> 4\n",
    "    node2 = reverselist(node2)\n",
    "    \n",
    "    # Merge alternate nodes\n",
    "    head1 = Node(0)  # dummy node\n",
    "    ptr = head1\n",
    "    \n",
    "    while node1 or node2:\n",
    "        \n",
    "        # First add element from first list\n",
    "        if node1:\n",
    "            ptr.next = node1\n",
    "            ptr = ptr.next\n",
    "            node1 = node1.next\n",
    "        # Then add element from second list\n",
    "        if node2:\n",
    "            ptr.next = node2\n",
    "            ptr = ptr.next\n",
    "            node2 = node2.next\n",
    "            \n",
    "        head = head1.next\n",
    "    \n",
    "    return head\n",
    "        \n",
    "# Driver Code\n",
    "\n",
    "if __name__ == '__main__':\n",
    "    \n",
    "    # Creating a linked list\n",
    "    # 5 -> 4 -> 3 -> 2 -> 1\n",
    "    node = Node(5)\n",
    "    node.next = Node(4)\n",
    "    node.next.next = Node(3)\n",
    "    node.next.next.next = Node(2)\n",
    "    node.next.next.next.next = Node(1)\n",
    "    \n",
    "    node3 = rearrange(node)\n",
    "    display(node3)"
   ]
  },
  {
   "cell_type": "code",
   "execution_count": null,
   "id": "0aa4c7c7",
   "metadata": {},
   "outputs": [],
   "source": []
  }
 ],
 "metadata": {
  "kernelspec": {
   "display_name": "Python 3 (ipykernel)",
   "language": "python",
   "name": "python3"
  },
  "language_info": {
   "codemirror_mode": {
    "name": "ipython",
    "version": 3
   },
   "file_extension": ".py",
   "mimetype": "text/x-python",
   "name": "python",
   "nbconvert_exporter": "python",
   "pygments_lexer": "ipython3",
   "version": "3.9.10"
  }
 },
 "nbformat": 4,
 "nbformat_minor": 5
}
