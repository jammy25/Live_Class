{
 "cells": [
  {
   "cell_type": "markdown",
   "id": "f9bdf4a8",
   "metadata": {},
   "source": [
    "### Brute (use Hashing)"
   ]
  },
  {
   "cell_type": "code",
   "execution_count": 37,
   "id": "1da32310",
   "metadata": {},
   "outputs": [
    {
     "name": "stdout",
     "output_type": "stream",
     "text": [
      "4\n"
     ]
    }
   ],
   "source": [
    "# TC: O(m + n)\n",
    "# SC: O(n) \n",
    "\n",
    "class Node:\n",
    "    def __init__(self, data):\n",
    "        self.next = None\n",
    "        self.data = data\n",
    "        \n",
    "def display(node):\n",
    "    while node:\n",
    "        print(node.data, end = ' --> ')\n",
    "        node = node.next\n",
    "    print('X')\n",
    "    \n",
    "def mergeNode(node1, node2):\n",
    "    \n",
    "    # define hashset\n",
    "    hs = set()\n",
    "    \n",
    "    while (node1 != None):\n",
    "        hs.add(node1)\n",
    "        node1 = node1.next\n",
    "    while (node2 != None):\n",
    "        if (node2 in hs):\n",
    "            return node2\n",
    "        node2 = node2.next\n",
    "    \n",
    "    return None\n",
    "\n",
    "# Driver Code\n",
    "if __name__ == '__main__':\n",
    "    \n",
    "    #list 1\n",
    "    node1 = Node(1)\n",
    "    node1.next = Node(2)\n",
    "    node1.next.next = Node(3)\n",
    "    node1.next.next.next = Node(4)\n",
    "    node1.next.next.next.next = Node(5)\n",
    "    node1.next.next.next.next.next = Node(6)\n",
    "    node1.next.next.next.next.next.next = Node(7)\n",
    "\n",
    "    #list 2\n",
    "    node2 = Node(10);\n",
    "    node2.next = Node(9);\n",
    "    node2.next.next = Node(8);\n",
    "    node2.next.next.next = node1.next.next.next\n",
    "\n",
    "    print(mergeNode(node1, node2).data)"
   ]
  },
  {
   "cell_type": "markdown",
   "id": "679477c2",
   "metadata": {},
   "source": [
    "## Better (using difference in the node count)"
   ]
  },
  {
   "cell_type": "code",
   "execution_count": 40,
   "id": "c4406685",
   "metadata": {},
   "outputs": [
    {
     "name": "stdout",
     "output_type": "stream",
     "text": [
      "4\n"
     ]
    }
   ],
   "source": [
    "TC: O(m + n)\n",
    "SC: O(1)\n",
    "\n",
    "class Node:\n",
    "    def __init__(self, data):\n",
    "        self.next = None\n",
    "        self.data = data\n",
    "    \n",
    "def getLengthofNode(head1, head2):\n",
    "    c1 = getCount(head1)\n",
    "    c2 = getCount(head2)\n",
    "    \n",
    "    if c1 > c2:\n",
    "        d = c1 - c2\n",
    "        return mergeNode(d, head1, head2)\n",
    "    else:\n",
    "        d = c2 - c1\n",
    "        return mergeNode(d, head1, head2)\n",
    "\n",
    "def getCount(node):\n",
    "    cur = node\n",
    "    c = 0\n",
    "    while cur:\n",
    "        c += 1\n",
    "        cur = cur.next\n",
    "    return c\n",
    "    \n",
    "def mergeNode(d, head1, head2):\n",
    "    \n",
    "    ptr1 = head1\n",
    "    ptr2 = head2\n",
    "    \n",
    "    for i in range(d):\n",
    "        if ptr1 is None:\n",
    "            print -1\n",
    "        ptr1 = ptr1.next\n",
    "        \n",
    "    while ptr1 and ptr2:\n",
    "        if ptr1 == ptr2:\n",
    "            return ptr1.data\n",
    "        \n",
    "        ptr1 = ptr1.next\n",
    "        ptr2 = ptr2.next\n",
    "        \n",
    "def display(node):\n",
    "    while node:\n",
    "        print(node.data, end = ' --> ')\n",
    "        node = node.next\n",
    "    print('X')\n",
    "    \n",
    "# Driver Code\n",
    "if __name__ == '__main__':\n",
    "    \n",
    "    #list 1\n",
    "    node1 = Node(1)\n",
    "    node1.next = Node(2)\n",
    "    node1.next.next = Node(3)\n",
    "    node1.next.next.next = Node(4)\n",
    "    node1.next.next.next.next = Node(5)\n",
    "    node1.next.next.next.next.next = Node(6)\n",
    "    node1.next.next.next.next.next.next = Node(7)\n",
    "\n",
    "    #list 2\n",
    "    node2 = Node(10);\n",
    "    node2.next = Node(9);\n",
    "    node2.next.next = Node(8);\n",
    "    node2.next.next.next = node1.next.next.next  \n",
    "    \n",
    "    print (getLengthofNode(node1, node2))"
   ]
  },
  {
   "cell_type": "markdown",
   "id": "1ab4970f",
   "metadata": {},
   "source": [
    "## Better and short (2-pointer Techinque)"
   ]
  },
  {
   "cell_type": "code",
   "execution_count": 52,
   "id": "8efa654b",
   "metadata": {},
   "outputs": [
    {
     "name": "stdout",
     "output_type": "stream",
     "text": [
      "4\n"
     ]
    }
   ],
   "source": [
    "# TC: O(m + n)\n",
    "# SC: O(1)\n",
    "\n",
    "class Node:\n",
    "    def __init__(self, data):\n",
    "        self.next = None\n",
    "        self.data = data\n",
    "\n",
    "def display(node):\n",
    "    while node:\n",
    "        print(node.data, end = ' --> ')\n",
    "        node = node.next\n",
    "    print('X')\n",
    "\n",
    "def intersection_point(head1, head2):\n",
    "    ptr1, ptr2 = head1, head2\n",
    "    while ptr1 != ptr2:\n",
    "        if not ptr1:\n",
    "            ptr1 = head2\n",
    "        else:\n",
    "            ptr1 = ptr1.next\n",
    "        if not ptr2:\n",
    "            ptr2 = head1\n",
    "        else:\n",
    "            ptr2 = ptr2.next\n",
    "    return ptr1\n",
    "\n",
    "# Driver Code\n",
    "if __name__ == '__main__':\n",
    "    #list 1\n",
    "    node1 = Node(1)\n",
    "    node1.next = Node(2)\n",
    "    node1.next.next = Node(3)\n",
    "    node1.next.next.next = Node(4)\n",
    "    node1.next.next.next.next = Node(5)\n",
    "    node1.next.next.next.next.next = Node(6)\n",
    "    node1.next.next.next.next.next.next = Node(7)\n",
    "\n",
    "    #list 2\n",
    "    node2 = Node(10);\n",
    "    node2.next = Node(9);\n",
    "    node2.next.next = Node(8);\n",
    "    node2.next.next.next = node1.next.next.next\n",
    "    \n",
    "    node = (intersection_point(node1, node2))\n",
    "    print(node.data)"
   ]
  },
  {
   "cell_type": "code",
   "execution_count": null,
   "id": "3bd257ea",
   "metadata": {},
   "outputs": [],
   "source": []
  }
 ],
 "metadata": {
  "kernelspec": {
   "display_name": "Python 3 (ipykernel)",
   "language": "python",
   "name": "python3"
  },
  "language_info": {
   "codemirror_mode": {
    "name": "ipython",
    "version": 3
   },
   "file_extension": ".py",
   "mimetype": "text/x-python",
   "name": "python",
   "nbconvert_exporter": "python",
   "pygments_lexer": "ipython3",
   "version": "3.9.10"
  }
 },
 "nbformat": 4,
 "nbformat_minor": 5
}
