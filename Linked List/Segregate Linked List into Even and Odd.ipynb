{
 "cells": [
  {
   "cell_type": "code",
   "execution_count": 5,
   "id": "fc148e5c",
   "metadata": {},
   "outputs": [
    {
     "name": "stdout",
     "output_type": "stream",
     "text": [
      "4 -> 2 -> 6 -> 8 -> 7 -> 3 -> 5 -> 1 -> X\n"
     ]
    }
   ],
   "source": [
    "# TC: O(n)\n",
    "# SC: O(1)\n",
    "\n",
    "class Node:\n",
    "    def __init__(self, data):\n",
    "        self.next = None\n",
    "        self.data = data\n",
    "\n",
    "def display(node):\n",
    "    while node:\n",
    "        print(node.data, end = ' -> ')\n",
    "        node = node.next\n",
    "    print('X')\n",
    "    \n",
    "def segregate_ll(head):\n",
    "    evenStart = evenEnd = oddStart = oddEnd = None\n",
    "    ptr = head\n",
    "    while ptr:\n",
    "        if ptr.data % 2 == 0:\n",
    "            if not evenStart:\n",
    "                evenStart = ptr\n",
    "                evenEnd = evenStart\n",
    "            else:\n",
    "                evenEnd.next = ptr\n",
    "                evenEnd = evenEnd.next\n",
    "        else:\n",
    "            if not oddStart:\n",
    "                oddStart = ptr\n",
    "                oddEnd = oddStart\n",
    "            else:\n",
    "                oddEnd.next = ptr\n",
    "                oddEnd = oddEnd.next\n",
    "        ptr = ptr.next\n",
    "    if evenStart and oddStart:\n",
    "        evenEnd.next = oddStart\n",
    "        oddEnd.next = None\n",
    "        head = evenStart\n",
    "    return head\n",
    "    \n",
    "# Driver Code\n",
    "if __name__ == '__main__':\n",
    "    head1 = Node(4)\n",
    "    head1.next = Node(2)\n",
    "    head1.next.next = Node(7)\n",
    "    head1.next.next.next = Node(3)\n",
    "    head1.next.next.next.next = Node(6)\n",
    "    head1.next.next.next.next.next = Node(5)\n",
    "    head1.next.next.next.next.next.next = Node(1)\n",
    "    head1.next.next.next.next.next.next.next = Node(8)\n",
    "    \n",
    "    node1 = segregate_ll(head1)\n",
    "    display(node1)"
   ]
  },
  {
   "cell_type": "code",
   "execution_count": 4,
   "id": "7fb39ab5",
   "metadata": {},
   "outputs": [
    {
     "name": "stdout",
     "output_type": "stream",
     "text": [
      "4 -> 2 -> 7 -> 3 -> 6 -> 5 -> 1 -> 8 -> X\n"
     ]
    }
   ],
   "source": [
    "''' A different solution available \n",
    "on anjani github check out later'''\n",
    "\n",
    "class Node:\n",
    "    def __init__(self, data):\n",
    "        self.next = None\n",
    "        self.data = data\n",
    "\n",
    "def display(node):\n",
    "    while node:\n",
    "        print(node.data, end = ' -> ')\n",
    "        node = node.next\n",
    "    print('X')\n",
    "    \n",
    "def segregate_ll(head):\n",
    "    even = None\n",
    "    pre = ptr = head\n",
    "    while ptr:\n",
    "        if ptr.data % 2 == 0:\n",
    "            if not even:\n",
    "                if pre == ptr:\n",
    "                    even = ptr\n",
    "                else:\n",
    "                    pass\n",
    "            else:\n",
    "                pass\n",
    "        pre = ptr\n",
    "        ptr = ptr.next\n",
    "    return head\n",
    "    \n",
    "# Driver Code\n",
    "if __name__ == '__main__':\n",
    "    head1 = Node(4)\n",
    "    head1.next = Node(2)\n",
    "    head1.next.next = Node(7)\n",
    "    head1.next.next.next = Node(3)\n",
    "    head1.next.next.next.next = Node(6)\n",
    "    head1.next.next.next.next.next = Node(5)\n",
    "    head1.next.next.next.next.next.next = Node(1)\n",
    "    head1.next.next.next.next.next.next.next = Node(8)\n",
    "    \n",
    "    node1 = segregate_ll(head1)\n",
    "    display(node1)"
   ]
  },
  {
   "cell_type": "code",
   "execution_count": null,
   "id": "48a9e09f",
   "metadata": {},
   "outputs": [],
   "source": []
  }
 ],
 "metadata": {
  "kernelspec": {
   "display_name": "Python 3 (ipykernel)",
   "language": "python",
   "name": "python3"
  },
  "language_info": {
   "codemirror_mode": {
    "name": "ipython",
    "version": 3
   },
   "file_extension": ".py",
   "mimetype": "text/x-python",
   "name": "python",
   "nbconvert_exporter": "python",
   "pygments_lexer": "ipython3",
   "version": "3.9.10"
  }
 },
 "nbformat": 4,
 "nbformat_minor": 5
}
