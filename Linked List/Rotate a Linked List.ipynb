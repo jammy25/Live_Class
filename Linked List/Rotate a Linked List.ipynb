{
 "cells": [
  {
   "cell_type": "code",
   "execution_count": 10,
   "id": "f3ac657f",
   "metadata": {},
   "outputs": [
    {
     "name": "stdout",
     "output_type": "stream",
     "text": [
      "50 -> 60 -> 10 -> 20 -> 30 -> 40 -> X\n"
     ]
    }
   ],
   "source": [
    "# TC: O(n)\n",
    "# SC: O(1)\n",
    "\n",
    "class Node:\n",
    "    def __init__(self, data):\n",
    "        self.next = None\n",
    "        self.data = data\n",
    "\n",
    "def display(node):\n",
    "    while node:\n",
    "        print(node.data, end = ' -> ')\n",
    "        node = node.next\n",
    "    print('X')\n",
    "\n",
    "def rotate_ll(head, k):\n",
    "    if k == 0:\n",
    "        return head\n",
    "    ptr = head\n",
    "    count = 1\n",
    "    while ptr and count < k:\n",
    "        ptr = ptr.next\n",
    "        count += 1\n",
    "    kthnode = ptr\n",
    "    \n",
    "    while ptr.next is not None:\n",
    "        ptr = ptr.next\n",
    "    ptr.next = head\n",
    "    head = kthnode.next\n",
    "    kthnode.next = None\n",
    "    return head    \n",
    "    \n",
    "\n",
    "# Driver Code\n",
    "if __name__ == '__main__':\n",
    "    node1 = Node(10)\n",
    "    node1.next = Node(20)\n",
    "    node1.next.next = Node(30)\n",
    "    node1.next.next.next = Node(40)\n",
    "    node1.next.next.next.next = Node(50)\n",
    "    node1.next.next.next.next.next = Node(60)\n",
    "    \n",
    "    node2 = rotate_ll(node1, 4)\n",
    "    display(node2)"
   ]
  },
  {
   "cell_type": "code",
   "execution_count": null,
   "id": "562295f4",
   "metadata": {},
   "outputs": [],
   "source": [
    "'''Correct and complete this \n",
    "solution to from tuf'''\n",
    "\n",
    "class Node:\n",
    "    def __init__(self, data):\n",
    "        self.next = None\n",
    "        self.data = data\n",
    "\n",
    "def display(node):\n",
    "    while node:\n",
    "        print(node.data, end = ' -> ')\n",
    "        node = node.next\n",
    "    print('X')\n",
    "    \n",
    "def rotate(head, k):\n",
    "    if k == 0:\n",
    "        return head\n",
    "    \n",
    "    ptr = head\n",
    "    len = 1\n",
    "    while ptr.next:\n",
    "        ptr = ptr.next\n",
    "        len += 1\n",
    "    print('K', ptr.data)\n",
    "    \n",
    "    ptr.next = head\n",
    "    k = k % len\n",
    "    k = len - k\n",
    "    while ptr and k > 0:\n",
    "        ptr = ptr.next\n",
    "    head = ptr.next\n",
    "    ptr.next = None\n",
    "    \n",
    "    return head\n",
    "\n",
    "# Driver Code\n",
    "if __name__ == '__main__':\n",
    "    node1 = Node(10)\n",
    "    node1.next = Node(20)\n",
    "    node1.next.next = Node(30)\n",
    "    node1.next.next.next = Node(40)\n",
    "    node1.next.next.next.next = Node(50)\n",
    "    node1.next.next.next.next.next = Node(60)\n",
    "    \n",
    "    node2 = rotate(node1, 4)\n",
    "    display(node2)"
   ]
  },
  {
   "cell_type": "code",
   "execution_count": null,
   "id": "1594bbe4",
   "metadata": {},
   "outputs": [],
   "source": []
  }
 ],
 "metadata": {
  "kernelspec": {
   "display_name": "Python 3 (ipykernel)",
   "language": "python",
   "name": "python3"
  },
  "language_info": {
   "codemirror_mode": {
    "name": "ipython",
    "version": 3
   },
   "file_extension": ".py",
   "mimetype": "text/x-python",
   "name": "python",
   "nbconvert_exporter": "python",
   "pygments_lexer": "ipython3",
   "version": "3.9.10"
  }
 },
 "nbformat": 4,
 "nbformat_minor": 5
}
