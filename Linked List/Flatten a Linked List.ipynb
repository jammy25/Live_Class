{
 "cells": [
  {
   "cell_type": "code",
   "execution_count": 3,
   "id": "98cfffbd",
   "metadata": {},
   "outputs": [
    {
     "name": "stdout",
     "output_type": "stream",
     "text": [
      "4 --> 6 --> 7 --> 11 --> 18 --> 20 --> 22 --> 28 --> 30 --> 35 --> 40 --> 45 --> 50 --> X\n"
     ]
    }
   ],
   "source": [
    "# TC: O(n) -> n: no. of nodes in the entire list\n",
    "# SC: O(1)\n",
    "\n",
    "class Node:\n",
    "    def __init__(self, data):\n",
    "        self.next = self.down = None\n",
    "        self.data = data\n",
    "\n",
    "def display(node):\n",
    "    while node:\n",
    "        print(node.data, end = ' --> ')\n",
    "        node = node.down\n",
    "    print('X')\n",
    "    \n",
    "def merge2sorted_ll(head1, head2):\n",
    "    head1.next = None\n",
    "    if (head1.data <= head2.data):\n",
    "        head = ptr = head1\n",
    "        first, second = head1.down, head2\n",
    "    else:\n",
    "        head = ptr = head2\n",
    "        first, second = head1, head2.down\n",
    "    while (first or second):\n",
    "        if not first:\n",
    "            ptr.down = second\n",
    "            return head\n",
    "        if not second:\n",
    "            ptr.down = first\n",
    "            return head\n",
    "        if (first.data < second.data):\n",
    "            ptr.down = first\n",
    "            ptr = first\n",
    "            first = first.down\n",
    "        else:\n",
    "            ptr.down = second\n",
    "            ptr = second\n",
    "            second = second.down\n",
    "    return head\n",
    "    \n",
    "def flatten_ll(head):\n",
    "    if not head or not head.next:\n",
    "        return head\n",
    "    head.next = flatten_ll(head.next)\n",
    "    head = merge2sorted_ll(head, head.next)\n",
    "    return head\n",
    "\n",
    "# Driver Code\n",
    "if __name__ == '__main__':\n",
    "    node = Node(4)\n",
    "    node.down = Node(6)\n",
    "    node.down.down = Node(7)\n",
    "    node.down.down.down = Node(30)\n",
    "    node.next = Node(11)\n",
    "    node.next.down = Node(20)\n",
    "    node.next.next = Node(18)\n",
    "    node.next.next.down = Node(22)\n",
    "    node.next.next.down.down = Node(50)\n",
    "    node.next.next.next = Node(28)\n",
    "    node.next.next.next.down = Node(35)\n",
    "    node.next.next.next.down.down = Node(40)\n",
    "    node.next.next.next.down.down.down = Node(45)\n",
    "    \n",
    "    node = flatten_ll(node)\n",
    "    display(node)"
   ]
  },
  {
   "cell_type": "code",
   "execution_count": null,
   "id": "4d65ab0e",
   "metadata": {},
   "outputs": [],
   "source": []
  }
 ],
 "metadata": {
  "kernelspec": {
   "display_name": "Python 3 (ipykernel)",
   "language": "python",
   "name": "python3"
  },
  "language_info": {
   "codemirror_mode": {
    "name": "ipython",
    "version": 3
   },
   "file_extension": ".py",
   "mimetype": "text/x-python",
   "name": "python",
   "nbconvert_exporter": "python",
   "pygments_lexer": "ipython3",
   "version": "3.9.10"
  }
 },
 "nbformat": 4,
 "nbformat_minor": 5
}
