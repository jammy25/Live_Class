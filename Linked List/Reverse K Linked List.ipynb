{
 "cells": [
  {
   "cell_type": "code",
   "execution_count": 4,
   "id": "c1932cd2",
   "metadata": {},
   "outputs": [
    {
     "name": "stdout",
     "output_type": "stream",
     "text": [
      "3 --> 2 --> 1 --> 6 --> 5 --> 4 --> 8 --> 7 --> X\n"
     ]
    }
   ],
   "source": [
    "# TC: O(n)\n",
    "# SC: O(1)\n",
    "\n",
    "class Node:\n",
    "    def __init__(self, data):\n",
    "        self.next = None\n",
    "        self.data = data\n",
    "        \n",
    "def display(node):\n",
    "    while node:\n",
    "        print(node.data, end = ' --> ')\n",
    "        node = node.next\n",
    "    print('X')\n",
    "    \n",
    "def reverse_kll(head, k):\n",
    "    if head is None:\n",
    "        return head\n",
    "    ptr = head\n",
    "    pre = None\n",
    "    count = 0\n",
    "    while (ptr and count < k):\n",
    "        post = ptr.next\n",
    "        ptr.next = pre\n",
    "        pre = ptr\n",
    "        ptr = post\n",
    "        count += 1\n",
    "    head.next = reverse_kll(post, k)\n",
    "    return pre\n",
    "\n",
    "# Driver Code\n",
    "if __name__ == '__main__':\n",
    "    head = Node(1)\n",
    "    head.next = Node(2)\n",
    "    head.next.next = Node(3)\n",
    "    head.next.next.next = Node(4)\n",
    "    head.next.next.next.next = Node(5)\n",
    "    head.next.next.next.next.next = Node(6)\n",
    "    head.next.next.next.next.next.next = Node(7)\n",
    "    head.next.next.next.next.next.next.next = Node(8)\n",
    "    \n",
    "    head1 = reverse_kll(head, 3)\n",
    "    display(head1)"
   ]
  },
  {
   "cell_type": "code",
   "execution_count": null,
   "id": "04014f62",
   "metadata": {},
   "outputs": [],
   "source": []
  }
 ],
 "metadata": {
  "kernelspec": {
   "display_name": "Python 3 (ipykernel)",
   "language": "python",
   "name": "python3"
  },
  "language_info": {
   "codemirror_mode": {
    "name": "ipython",
    "version": 3
   },
   "file_extension": ".py",
   "mimetype": "text/x-python",
   "name": "python",
   "nbconvert_exporter": "python",
   "pygments_lexer": "ipython3",
   "version": "3.9.10"
  }
 },
 "nbformat": 4,
 "nbformat_minor": 5
}
