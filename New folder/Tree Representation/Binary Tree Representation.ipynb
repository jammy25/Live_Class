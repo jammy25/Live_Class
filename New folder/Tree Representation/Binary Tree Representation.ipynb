{
 "cells": [
  {
   "cell_type": "markdown",
   "id": "56c4131d",
   "metadata": {},
   "source": [
    "## Tree Representation"
   ]
  },
  {
   "cell_type": "code",
   "execution_count": 10,
   "id": "292a3ce1",
   "metadata": {},
   "outputs": [
    {
     "name": "stdout",
     "output_type": "stream",
     "text": [
      "1\n"
     ]
    }
   ],
   "source": [
    "class Node:\n",
    "    def __init__(self, key):\n",
    "        self.left = None\n",
    "        self.right = None\n",
    "        self.data = key\n",
    "root = Node(1)\n",
    "# root.left = Node(2)\n",
    "# root.right = Node(3)\n",
    "print(root.data)"
   ]
  },
  {
   "cell_type": "markdown",
   "id": "049c71f5",
   "metadata": {},
   "source": [
    "## Insertion"
   ]
  },
  {
   "cell_type": "code",
   "execution_count": 46,
   "id": "a24651bc",
   "metadata": {},
   "outputs": [],
   "source": [
    "# insertion without loop\n",
    "\n",
    "class Node:\n",
    "    def __init__ (self, key):\n",
    "        self.left = None\n",
    "        self.right = None\n",
    "        self.data = key\n",
    "\n",
    "def insert(root, key):\n",
    "    if root is None:\n",
    "        return Node(key)\n",
    "    else:\n",
    "        if root.data == key:\n",
    "            return root\n",
    "        elif root.data > key:\n",
    "            root.left = insert(root.left, key)\n",
    "        else:\n",
    "            root.right = insert(root.right, key)\n",
    "    return root\n",
    "\n",
    "r = Node(50)\n",
    "r = insert(r, 30)\n",
    "r = insert(r, 20)\n",
    "r = insert(r, 40)\n",
    "r = insert(r, 70)\n",
    "r = insert(r, 60)\n",
    "r = insert(r, 80)"
   ]
  },
  {
   "cell_type": "markdown",
   "id": "7c9e9b43",
   "metadata": {},
   "source": []
  },
  {
   "cell_type": "code",
   "execution_count": 52,
   "id": "09796d87",
   "metadata": {},
   "outputs": [],
   "source": [
    "# insertion with loop\n",
    "\n",
    "class Node:\n",
    "    def __init__(self, key):\n",
    "        self.left = None\n",
    "        self.right = None\n",
    "        self.data = key\n",
    "        \n",
    "    def insert(self, key):\n",
    "        if self.data is None:\n",
    "            self.data = key\n",
    "            return\n",
    "        if self.data == key:\n",
    "            return\n",
    "        if self.data > key:\n",
    "            if self.left:\n",
    "                self.left.insert(key)\n",
    "            else:\n",
    "                self.left = Node(key)\n",
    "        else:\n",
    "            if self.right:\n",
    "                self.right.insert(key)\n",
    "            else:\n",
    "                self.right = Node(key)\n",
    "                \n",
    "root = Node(10)\n",
    "list1 = [6, 3, 1, 6, 98, 3, 7]\n",
    "for i in list1:\n",
    "    root.insert(i)"
   ]
  },
  {
   "cell_type": "code",
   "execution_count": null,
   "id": "9f453736",
   "metadata": {},
   "outputs": [],
   "source": []
  }
 ],
 "metadata": {
  "kernelspec": {
   "display_name": "Python 3 (ipykernel)",
   "language": "python",
   "name": "python3"
  },
  "language_info": {
   "codemirror_mode": {
    "name": "ipython",
    "version": 3
   },
   "file_extension": ".py",
   "mimetype": "text/x-python",
   "name": "python",
   "nbconvert_exporter": "python",
   "pygments_lexer": "ipython3",
   "version": "3.9.10"
  }
 },
 "nbformat": 4,
 "nbformat_minor": 5
}
