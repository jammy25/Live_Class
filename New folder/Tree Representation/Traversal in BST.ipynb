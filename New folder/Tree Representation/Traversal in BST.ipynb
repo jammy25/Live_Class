{
 "cells": [
  {
   "cell_type": "markdown",
   "id": "709531f3",
   "metadata": {},
   "source": [
    "## Inorder"
   ]
  },
  {
   "cell_type": "code",
   "execution_count": 1,
   "id": "2f107a72",
   "metadata": {},
   "outputs": [
    {
     "ename": "IndentationError",
     "evalue": "expected an indented block (1364221287.py, line 21)",
     "output_type": "error",
     "traceback": [
      "\u001b[1;36m  Input \u001b[1;32mIn [1]\u001b[1;36m\u001b[0m\n\u001b[1;33m    r = Node(None)\u001b[0m\n\u001b[1;37m    ^\u001b[0m\n\u001b[1;31mIndentationError\u001b[0m\u001b[1;31m:\u001b[0m expected an indented block\n"
     ]
    }
   ],
   "source": [
    "class Node:\n",
    "    def __init__(self, key):\n",
    "        self.left = None\n",
    "        self.right = None\n",
    "        self.data = key\n",
    "        \n",
    "def insert(root, key):\n",
    "    if root is None:\n",
    "        return Node(key)\n",
    "    else:\n",
    "        if root.data == key:\n",
    "            return root\n",
    "        if root.data > key:\n",
    "            root.left = Node(key)\n",
    "        else:\n",
    "            root.right = Node(key)\n",
    "    return root\n",
    "\n",
    "def inorder(root):\n",
    "    \n",
    "    \n",
    "r = Node(None)\n",
    "r = insert(r, )\n",
    "r = insert(r, )\n",
    "r = insert(r, )\n",
    "r = insert(r, )\n",
    "r = insert(r, )"
   ]
  }
 ],
 "metadata": {
  "kernelspec": {
   "display_name": "Python 3 (ipykernel)",
   "language": "python",
   "name": "python3"
  },
  "language_info": {
   "codemirror_mode": {
    "name": "ipython",
    "version": 3
   },
   "file_extension": ".py",
   "mimetype": "text/x-python",
   "name": "python",
   "nbconvert_exporter": "python",
   "pygments_lexer": "ipython3",
   "version": "3.9.10"
  }
 },
 "nbformat": 4,
 "nbformat_minor": 5
}
