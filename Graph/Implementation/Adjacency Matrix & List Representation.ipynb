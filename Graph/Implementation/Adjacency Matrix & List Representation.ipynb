{
 "cells": [
  {
   "cell_type": "markdown",
   "id": "86060870",
   "metadata": {},
   "source": [
    "### Adjacency Matrix"
   ]
  },
  {
   "cell_type": "code",
   "execution_count": 3,
   "id": "c85845e6",
   "metadata": {},
   "outputs": [
    {
     "name": "stdout",
     "output_type": "stream",
     "text": [
      "[0, 1, 0, 0, 1]\n",
      "[1, 0, 1, 1, 1]\n",
      "[0, 1, 0, 1, 0]\n",
      "[0, 1, 1, 0, 1]\n",
      "[1, 1, 0, 1, 0]\n"
     ]
    }
   ],
   "source": [
    "def add_edge(matrix, src, dest):\n",
    "    matrix[src][dest] = 1\n",
    "    matrix[dest][src] = 1\n",
    "    \n",
    "# Driver Code\n",
    "if __name__ == '__main__':\n",
    "    matrix = [[0 for _ in range(5)] for _ in range(5)]\n",
    "    add_edge(matrix, 0, 1)\n",
    "    add_edge(matrix, 0, 4)\n",
    "    add_edge(matrix, 1, 2)\n",
    "    add_edge(matrix, 1, 3)\n",
    "    add_edge(matrix, 1, 4)\n",
    "    add_edge(matrix, 2, 3)\n",
    "    add_edge(matrix, 3, 4)\n",
    "    \n",
    "    for m in matrix:\n",
    "        print(m)"
   ]
  },
  {
   "cell_type": "markdown",
   "id": "8b64b7a5",
   "metadata": {},
   "source": [
    "### Adjacency List"
   ]
  },
  {
   "cell_type": "code",
   "execution_count": 7,
   "id": "218f1f65",
   "metadata": {},
   "outputs": [
    {
     "ename": "NameError",
     "evalue": "name 'n' is not defined",
     "output_type": "error",
     "traceback": [
      "\u001b[1;31m---------------------------------------------------------------------------\u001b[0m",
      "\u001b[1;31mNameError\u001b[0m                                 Traceback (most recent call last)",
      "Input \u001b[1;32mIn [7]\u001b[0m, in \u001b[0;36m<module>\u001b[1;34m\u001b[0m\n\u001b[0;32m     49\u001b[0m graph\u001b[38;5;241m.\u001b[39madd_edge(\u001b[38;5;241m2\u001b[39m, \u001b[38;5;241m3\u001b[39m)\n\u001b[0;32m     50\u001b[0m graph\u001b[38;5;241m.\u001b[39madd_edge(\u001b[38;5;241m3\u001b[39m, \u001b[38;5;241m4\u001b[39m)\n\u001b[1;32m---> 51\u001b[0m \u001b[43mgraph\u001b[49m\u001b[38;5;241;43m.\u001b[39;49m\u001b[43mdisplay\u001b[49m\u001b[43m(\u001b[49m\u001b[43m)\u001b[49m\n",
      "Input \u001b[1;32mIn [7]\u001b[0m, in \u001b[0;36mGraph.display\u001b[1;34m(self)\u001b[0m\n\u001b[0;32m     31\u001b[0m \u001b[38;5;28;01mdef\u001b[39;00m \u001b[38;5;21mdisplay\u001b[39m(\u001b[38;5;28mself\u001b[39m):\n\u001b[1;32m---> 32\u001b[0m     \u001b[38;5;28;01mfor\u001b[39;00m i \u001b[38;5;129;01min\u001b[39;00m \u001b[38;5;28mrange\u001b[39m(\u001b[43mn\u001b[49m):\n\u001b[0;32m     33\u001b[0m         \u001b[38;5;28;01mif\u001b[39;00m \u001b[38;5;28mself\u001b[39m\u001b[38;5;241m.\u001b[39marr[i]:\n\u001b[0;32m     34\u001b[0m             ptr \u001b[38;5;241m=\u001b[39m \u001b[38;5;28mself\u001b[39m\u001b[38;5;241m.\u001b[39marr[i]\n",
      "\u001b[1;31mNameError\u001b[0m: name 'n' is not defined"
     ]
    }
   ],
   "source": [
    "class Node:\n",
    "    def __init__(self, val):\n",
    "        self.val = val\n",
    "        self.next = None\n",
    "        \n",
    "class Graph:\n",
    "    def __init__(self, n):\n",
    "        self.n = n \n",
    "        self.arr = [None] * n\n",
    "        \n",
    "    def add_edge(self, src, dest):\n",
    "        if src > self.n - 1 or dest > self.n - 1:\n",
    "            print('A maximum of', self.n, 'vertices are allowed')\n",
    "        node = Node(dest)\n",
    "        if self.arr[src]:\n",
    "            ptr = self.arr[src]\n",
    "            while ptr.next:\n",
    "                ptr = ptr.next\n",
    "            ptr.next = node\n",
    "        else:\n",
    "            self.arr[src] = node\n",
    "        node = Node(src)\n",
    "        if self.arr[dest]:\n",
    "            ptr = self.arr[dest]\n",
    "            while ptr.next:\n",
    "                ptr = ptr.next\n",
    "            ptr.next = node\n",
    "        else:\n",
    "            self.arr[dest] = node\n",
    "            \n",
    "    def display(self):\n",
    "        for i in range(n):\n",
    "            if self.arr[i]:\n",
    "                ptr = self.arr[i]\n",
    "                print(i, end = ': ')\n",
    "                while ptr:\n",
    "                    print(ptr.val, '->', end = ' ')\n",
    "                    ptr = ptr.next\n",
    "                print('X')\n",
    "                \n",
    "# Driver Code\n",
    "if __name__ == '__main__':\n",
    "    graph = Graph(5)\n",
    "    graph.add_edge(0, 1)\n",
    "    graph.add_edge(0, 4)\n",
    "    graph.add_edge(1, 2)\n",
    "    graph.add_edge(1, 3)\n",
    "    graph.add_edge(1, 4)\n",
    "    graph.add_edge(2, 3)\n",
    "    graph.add_edge(3, 4)\n",
    "    graph.display()"
   ]
  },
  {
   "cell_type": "code",
   "execution_count": null,
   "id": "e9ace5c1",
   "metadata": {},
   "outputs": [],
   "source": []
  }
 ],
 "metadata": {
  "kernelspec": {
   "display_name": "Python 3 (ipykernel)",
   "language": "python",
   "name": "python3"
  },
  "language_info": {
   "codemirror_mode": {
    "name": "ipython",
    "version": 3
   },
   "file_extension": ".py",
   "mimetype": "text/x-python",
   "name": "python",
   "nbconvert_exporter": "python",
   "pygments_lexer": "ipython3",
   "version": "3.9.10"
  }
 },
 "nbformat": 4,
 "nbformat_minor": 5
}
