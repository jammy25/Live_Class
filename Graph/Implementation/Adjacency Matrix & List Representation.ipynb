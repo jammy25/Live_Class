{
 "cells": [
  {
   "cell_type": "markdown",
   "id": "f197021f",
   "metadata": {},
   "source": [
    "### Adjacency Matrix"
   ]
  },
  {
   "cell_type": "code",
   "execution_count": null,
   "id": "1f436560",
   "metadata": {},
   "outputs": [],
   "source": [
    "def add_edge(matrix, src, dest):\n",
    "    matrix[src][dest] = 1\n",
    "    matrix[dest][src] = 1\n",
    "    \n",
    "# Driver Code\n",
    "if __name__ == '__main__':\n",
    "    matrix = [[0 for _ in range(5)] for _ in range(5)]\n",
    "    add_edge(matrix, 0, 1)\n",
    "    add_edge(matrix, \n",
    "    add_edge(matrix, )\n",
    "    add_edge(matrix, )\n",
    "    add_edge(matrix, )\n",
    "    add_edge(matrix, )"
   ]
  }
 ],
 "metadata": {
  "kernelspec": {
   "display_name": "Python 3 (ipykernel)",
   "language": "python",
   "name": "python3"
  },
  "language_info": {
   "codemirror_mode": {
    "name": "ipython",
    "version": 3
   },
   "file_extension": ".py",
   "mimetype": "text/x-python",
   "name": "python",
   "nbconvert_exporter": "python",
   "pygments_lexer": "ipython3",
   "version": "3.9.10"
  }
 },
 "nbformat": 4,
 "nbformat_minor": 5
}
