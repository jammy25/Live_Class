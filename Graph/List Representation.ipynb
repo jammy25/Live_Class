{
 "cells": [
  {
   "cell_type": "code",
   "execution_count": 2,
   "id": "53a14d8e",
   "metadata": {},
   "outputs": [
    {
     "name": "stdout",
     "output_type": "stream",
     "text": [
      "{'A': [['B', 10], ['D', 0]], 'B': [['A', 10], ['C', 0], ['D', 0], ['E', 0]], 'C': [['B', 0], ['D', 0]], 'D': [['A', 0], ['B', 0], ['C', 0], ['E', 0]], 'E': [['B', 0], ['D', 0]]}\n"
     ]
    }
   ],
   "source": [
    "def add_node(v):\n",
    "    if v in graph:\n",
    "        print(v, \"already present in the graph\")\n",
    "    else:\n",
    "        graph[v] = []\n",
    "\n",
    "def add_edge(v1, v2, cost = 0):\n",
    "    if v1 not in graph:\n",
    "        print(v1, \"not present in graph\")\n",
    "    elif v2 not in graph:\n",
    "        print(v2, \"not present in graph\")\n",
    "    else:\n",
    "        list1 = [v2, cost]\n",
    "        list2 = [v1, cost]\n",
    "        graph[v1].append(list1)\n",
    "        graph[v2].append(list2)\n",
    "        \n",
    "# Driver Code\n",
    "if __name__ == '__main__':\n",
    "    \n",
    "    graph = {}\n",
    "    add_node(\"A\")\n",
    "    add_node(\"B\")\n",
    "    add_node(\"C\")\n",
    "    add_node(\"D\")\n",
    "    add_node(\"E\")\n",
    "    add_edge(\"A\", \"B\", 10)\n",
    "    add_edge(\"A\", \"D\")\n",
    "    add_edge(\"B\", \"C\")\n",
    "    add_edge(\"B\", \"D\")\n",
    "    add_edge(\"B\", \"E\")\n",
    "    add_edge(\"C\", \"D\")\n",
    "    add_edge(\"D\", \"E\")\n",
    "    print(graph)"
   ]
  }
 ],
 "metadata": {
  "kernelspec": {
   "display_name": "Python 3 (ipykernel)",
   "language": "python",
   "name": "python3"
  },
  "language_info": {
   "codemirror_mode": {
    "name": "ipython",
    "version": 3
   },
   "file_extension": ".py",
   "mimetype": "text/x-python",
   "name": "python",
   "nbconvert_exporter": "python",
   "pygments_lexer": "ipython3",
   "version": "3.9.10"
  }
 },
 "nbformat": 4,
 "nbformat_minor": 5
}
