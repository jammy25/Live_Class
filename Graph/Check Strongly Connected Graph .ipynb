{
 "cells": [
  {
   "cell_type": "code",
   "execution_count": 7,
   "id": "edfd805b",
   "metadata": {},
   "outputs": [
    {
     "name": "stdout",
     "output_type": "stream",
     "text": [
      "True\n"
     ]
    }
   ],
   "source": [
    "from collections import defaultdict\n",
    "\n",
    "class Graph:\n",
    "    def __init__(self, n):\n",
    "        self.graph = defaultdict(list)\n",
    "        self.n = n\n",
    "    \n",
    "    def add_edge(self, u, v):\n",
    "        self.graph[u].append(v)\n",
    "        \n",
    "    def dfs(self, u, seen):\n",
    "        seen.add(u)\n",
    "        for v in self.graph[u]:\n",
    "            if v not in seen:\n",
    "                self.dfs(v, seen)\n",
    "    \n",
    "    def transpose(self):\n",
    "        t_graph = defaultdict(list)\n",
    "        for u in self.graph:\n",
    "            for v in self.graph[u]:\n",
    "                t_graph[v].append(u)\n",
    "        self.graph = t_graph\n",
    "        \n",
    "    def is_strongly_connected(self):\n",
    "        seen = set()\n",
    "        self.dfs(0, seen)\n",
    "        if len(seen) < self.n:\n",
    "            return False\n",
    "        self.transpose()\n",
    "        seen = set()\n",
    "        self.dfs(0, seen)\n",
    "        if len(seen) < self.n:\n",
    "            return False\n",
    "        return True\n",
    "    \n",
    "# Driver Code\n",
    "if __name__ == '__main__':\n",
    "#     Inputs:\n",
    "#     TC: 1\n",
    "    g = Graph(5)\n",
    "    g.add_edge(0, 1)\n",
    "    g.add_edge(1, 2)\n",
    "    g.add_edge(2, 3)\n",
    "    g.add_edge(3, 0)\n",
    "    g.add_edge(2, 4)\n",
    "    g.add_edge(4, 2)\n",
    "    \n",
    "#     TC: 2\n",
    "#     g = Graph(4)\n",
    "#     g.add_edge(0, 1)\n",
    "#     g.add_edge(1, 2)\n",
    "#     g.add_edge(2, 3)\n",
    "    \n",
    "    print(g.is_strongly_connected())"
   ]
  },
  {
   "cell_type": "code",
   "execution_count": null,
   "id": "817f0361",
   "metadata": {},
   "outputs": [],
   "source": []
  }
 ],
 "metadata": {
  "kernelspec": {
   "display_name": "Python 3 (ipykernel)",
   "language": "python",
   "name": "python3"
  },
  "language_info": {
   "codemirror_mode": {
    "name": "ipython",
    "version": 3
   },
   "file_extension": ".py",
   "mimetype": "text/x-python",
   "name": "python",
   "nbconvert_exporter": "python",
   "pygments_lexer": "ipython3",
   "version": "3.9.10"
  }
 },
 "nbformat": 4,
 "nbformat_minor": 5
}
