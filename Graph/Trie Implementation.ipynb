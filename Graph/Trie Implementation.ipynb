{
 "cells": [
  {
   "cell_type": "code",
   "execution_count": 1,
   "id": "d0186c46",
   "metadata": {},
   "outputs": [
    {
     "name": "stdout",
     "output_type": "stream",
     "text": [
      "True\n",
      "pqrs deleted!\n",
      "False\n",
      "True\n",
      "False\n",
      "None\n",
      "True\n"
     ]
    }
   ],
   "source": [
    "class TrieNode:\n",
    "    def __init__(self):\n",
    "        self.children = {}\n",
    "        self.end_of_word = False\n",
    "        \n",
    "class Trie:\n",
    "    def __init__(self):\n",
    "        self.root = TrieNode()\n",
    "        \n",
    "    def insert(self, word):\n",
    "        ptr = self.root\n",
    "        for ch in word:\n",
    "            if not ptr.children.get(ch):\n",
    "                ptr.children[ch] = TrieNode()\n",
    "            ptr = ptr.children[ch]\n",
    "        ptr.end_of_word = True        \n",
    "        \n",
    "    def search(self, word):\n",
    "        ptr = self.root\n",
    "        for ch in word:\n",
    "            if not ptr.children.get(ch):\n",
    "                return False\n",
    "            ptr = ptr.children[ch]\n",
    "        return ptr.end_of_word\n",
    "    \n",
    "    def delete(self, word):\n",
    "        if not self.search(word):\n",
    "            return 'Word does not exist'\n",
    "        ptr = self.root\n",
    "        for ch in word:\n",
    "            ptr = ptr.children[ch]\n",
    "        ptr.end_of_word = False\n",
    "        return word + ' deleted!'\n",
    "            \n",
    "    def update(self, word, new_word):\n",
    "        self.delete(word)\n",
    "        self.insert(new_word)\n",
    "        \n",
    "# Driver Code\n",
    "if __name__ == '__main__':\n",
    "    trie = Trie()\n",
    "    words = ['pqrs', 'prst', 'psst', 'qqrt', 'pqr']\n",
    "    for word in words:\n",
    "        trie.insert(word)\n",
    "        \n",
    "    print(trie.search('pqrs'))\n",
    "    print(trie.delete('pqrs'))\n",
    "    print(trie.search('pqrs'))\n",
    "    print(trie.search('pqr'))\n",
    "    print(trie.search('prq'))\n",
    "    print(trie.update('pqr', 'prq'))\n",
    "    print(trie.search('prq'))"
   ]
  }
 ],
 "metadata": {
  "kernelspec": {
   "display_name": "Python 3 (ipykernel)",
   "language": "python",
   "name": "python3"
  },
  "language_info": {
   "codemirror_mode": {
    "name": "ipython",
    "version": 3
   },
   "file_extension": ".py",
   "mimetype": "text/x-python",
   "name": "python",
   "nbconvert_exporter": "python",
   "pygments_lexer": "ipython3",
   "version": "3.9.10"
  }
 },
 "nbformat": 4,
 "nbformat_minor": 5
}
