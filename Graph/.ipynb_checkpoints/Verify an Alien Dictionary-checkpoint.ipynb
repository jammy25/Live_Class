{
 "cells": [
  {
   "cell_type": "code",
   "execution_count": 5,
   "id": "c8cb24d0",
   "metadata": {},
   "outputs": [
    {
     "name": "stdout",
     "output_type": "stream",
     "text": [
      "y -> t -> x -> z -> a -> End\n"
     ]
    }
   ],
   "source": [
    "from collections import defaultdict\n",
    "\n",
    "def verify_alien_dictionary(words):\n",
    "    \n",
    "    def dfs(u):\n",
    "        visited.add(u)\n",
    "        for v in graph[u]:\n",
    "            if not in_degrees[v] or v in visited:\n",
    "                continue\n",
    "            in_degrees[v] -= 1\n",
    "            if not in_degrees[v]:\n",
    "                res.append(v)\n",
    "                dfs(v)\n",
    "        \n",
    "        \n",
    "    \n",
    "    graph = defaultdict(list)\n",
    "    in_degrees = defaultdict(int)\n",
    "    n = len(words)\n",
    "    for i in range(n - 1):\n",
    "        for j in range(len(min(words[i], words[i + 1]))):\n",
    "            if words[i][j] != words[i + 1][j]:\n",
    "                graph[words[i][j]].append(words[i + 1][j])\n",
    "                in_degrees[words[i + 1][j]] += 1\n",
    "                if not in_degrees[words[i][j]]:\n",
    "                    in_degrees[words[i][j]] = 0\n",
    "                    break\n",
    "                    \n",
    "    visited = set()\n",
    "    res = []\n",
    "    for c in in_degrees:\n",
    "        if not in_degrees[c] and c not in visited:\n",
    "            res.append(c)\n",
    "            dfs(c)\n",
    "    \n",
    "    for word in words:\n",
    "        for c in word:\n",
    "            if c not in res:\n",
    "                res.append(c)\n",
    "    \n",
    "    return res\n",
    "        \n",
    "    \n",
    "# Driver Code\n",
    "if __name__ == '__main__':\n",
    "    \n",
    "    dictionary = ['yxx', 'yxxta', 'xyzt', 'xyzx', 'zxy', 'zxt']\n",
    "    res = verify_alien_dictionary(dictionary)\n",
    "    \n",
    "    for r in res:\n",
    "        print(r, end = ' -> ')\n",
    "    print('End')"
   ]
  }
 ],
 "metadata": {
  "kernelspec": {
   "display_name": "Python 3 (ipykernel)",
   "language": "python",
   "name": "python3"
  },
  "language_info": {
   "codemirror_mode": {
    "name": "ipython",
    "version": 3
   },
   "file_extension": ".py",
   "mimetype": "text/x-python",
   "name": "python",
   "nbconvert_exporter": "python",
   "pygments_lexer": "ipython3",
   "version": "3.9.10"
  }
 },
 "nbformat": 4,
 "nbformat_minor": 5
}
