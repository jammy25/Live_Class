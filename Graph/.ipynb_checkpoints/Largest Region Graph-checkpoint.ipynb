{
 "cells": [
  {
   "cell_type": "code",
   "execution_count": 15,
   "id": "5ca2fd5f",
   "metadata": {},
   "outputs": [
    {
     "name": "stdout",
     "output_type": "stream",
     "text": [
      "6\n"
     ]
    }
   ],
   "source": [
    "from collections import deque\n",
    "\n",
    "def num_islands(matrix):\n",
    "    X = [-1, -1, -1, 0, 0, 1, 1, 1]\n",
    "    Y = [-1, 0, 1, -1, 1, -1, 0, 1]\n",
    "    \n",
    "    def bfs(i, j):\n",
    "        queue = deque([[i, j]])\n",
    "        visited.add((i, j))\n",
    "        region = 0\n",
    "        while queue:\n",
    "            i, j = queue.popleft()\n",
    "            region += 1\n",
    "            for k in range(8):\n",
    "                x, y = i + X[k], j + Y[k]\n",
    "                if 0 <= x < m and 0 <= y < n and matrix[x][y]:\n",
    "                        if (x, y) in visited:\n",
    "                            continue\n",
    "                        queue.append([x, y])\n",
    "                        visited.add((x, y))\n",
    "        return region\n",
    "    \n",
    "    visited = set()\n",
    "    m, n = len(matrix), len(matrix[0])\n",
    "    max_region = 0\n",
    "    for i in range(m):\n",
    "        for j in range(n):\n",
    "            if matrix[i][j] and (i, j) not in visited:\n",
    "                max_region = max(max_region, bfs(i, j))\n",
    "    return max_region\n",
    "\n",
    "# Driver Code\n",
    "if __name__ == '__main__':\n",
    "    \n",
    "#     Inputs:\n",
    "#     TC: 01\n",
    "    \n",
    "    mat = [[0, 0, 1, 1, 0],\n",
    "           [1, 0, 1, 1, 0],\n",
    "           [0, 1, 0, 0, 0],\n",
    "           [0, 0, 0, 0, 1],\n",
    "           [0, 0, 1, 1, 0]]\n",
    "    \n",
    "#     TC: 02\n",
    "\n",
    "#     matrix = [[0, 1, 0],\n",
    "#               [0, 1, 0],\n",
    "#               [0, 0, 0],\n",
    "#               [1, 1, 0],\n",
    "#               [1, 0, 1],\n",
    "#               [0, 1, 1],\n",
    "#               [1, 1, 1],\n",
    "#               [0, 1, 1],\n",
    "#               [1, 0, 1]]\n",
    "    \n",
    "    print(num_islands(mat))"
   ]
  }
 ],
 "metadata": {
  "kernelspec": {
   "display_name": "Python 3 (ipykernel)",
   "language": "python",
   "name": "python3"
  },
  "language_info": {
   "codemirror_mode": {
    "name": "ipython",
    "version": 3
   },
   "file_extension": ".py",
   "mimetype": "text/x-python",
   "name": "python",
   "nbconvert_exporter": "python",
   "pygments_lexer": "ipython3",
   "version": "3.9.10"
  }
 },
 "nbformat": 4,
 "nbformat_minor": 5
}
