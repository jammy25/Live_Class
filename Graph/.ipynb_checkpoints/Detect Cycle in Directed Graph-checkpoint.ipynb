{
 "cells": [
  {
   "cell_type": "code",
   "execution_count": 1,
   "id": "c8fbca03",
   "metadata": {},
   "outputs": [
    {
     "name": "stdout",
     "output_type": "stream",
     "text": [
      "Graph does not contain cycle\n"
     ]
    }
   ],
   "source": [
    "from collections import defaultdict\n",
    "\n",
    "class Graph:\n",
    "    def __init__(self, n):\n",
    "        self.graph = defaultdict(list)\n",
    "        self.n = n\n",
    "    \n",
    "\n",
    "    def add_edge(self, u, v):\n",
    "        self.graph[u].append(v)\n",
    "        \n",
    "    def DFS(self, u, visited, seen):\n",
    "        visited[u] = True\n",
    "        seen[u] = True\n",
    "        for v in self.graph[u]:\n",
    "            if visited[v] == False:\n",
    "                if self.DFS(v, visited, seen):\n",
    "                    return True\n",
    "            if seen[v] == True:\n",
    "                return True\n",
    "        seen[u] = False\n",
    "        return False            \n",
    "    \n",
    "    def is_cycle(self):\n",
    "        visited = [False] * (self.n)\n",
    "        seen = [False] * (self.n)\n",
    "        \n",
    "        for u in range(self.n):\n",
    "            if visited[u] == False:\n",
    "                if self.DFS(u, visited, seen):\n",
    "                    return True\n",
    "        return False\n",
    "\n",
    "# Driver Code\n",
    "if __name__ == '__main__':\n",
    "    g = Graph(6)\n",
    "    g.add_edge(0, 1)\n",
    "    g.add_edge(1, 2)\n",
    "#     g.add_edge(2, 3)\n",
    "    g.add_edge(3, 4)\n",
    "    g.add_edge(4, 1)\n",
    "    g.add_edge(3, 5)\n",
    "#     g.add_edge(5, 5)\n",
    "    \n",
    "    if g.is_cycle():\n",
    "        print(\"Graph contains cycle\")\n",
    "    else:\n",
    "        print(\"Graph does not contain cycle\")"
   ]
  }
 ],
 "metadata": {
  "kernelspec": {
   "display_name": "Python 3 (ipykernel)",
   "language": "python",
   "name": "python3"
  },
  "language_info": {
   "codemirror_mode": {
    "name": "ipython",
    "version": 3
   },
   "file_extension": ".py",
   "mimetype": "text/x-python",
   "name": "python",
   "nbconvert_exporter": "python",
   "pygments_lexer": "ipython3",
   "version": "3.9.10"
  }
 },
 "nbformat": 4,
 "nbformat_minor": 5
}
