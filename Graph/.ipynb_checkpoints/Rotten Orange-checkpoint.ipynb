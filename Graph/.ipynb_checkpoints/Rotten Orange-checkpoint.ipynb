{
 "cells": [
  {
   "cell_type": "code",
   "execution_count": 1,
   "id": "2135dd9e",
   "metadata": {},
   "outputs": [
    {
     "name": "stdout",
     "output_type": "stream",
     "text": [
      "4\n",
      "-1\n",
      "0\n"
     ]
    }
   ],
   "source": [
    "from collections import deque\n",
    "\n",
    "def rotten_oranges(matrix):\n",
    "    X = [0, -1, 1, 0]\n",
    "    Y = [-1, 0, 0, 1]\n",
    "    m, n = len(matrix), len(matrix[0])\n",
    "    queue = deque()\n",
    "    time = ones = 0\n",
    "    \n",
    "    for i in range(m):\n",
    "        for j in range(n):\n",
    "            if matrix[i][j] == 2:\n",
    "                queue.append([i, j, time])\n",
    "            elif matrix[i][j] == 1:\n",
    "                ones += 1\n",
    "                \n",
    "    while queue:\n",
    "        i, j, time = queue.popleft()\n",
    "        for k in range(4):\n",
    "            x, y = i + X[k], j + Y[k]\n",
    "            if 0 <= x < m and 0 <= y < n and matrix[x][y] == 1:\n",
    "                matrix[x][y] = 2\n",
    "                ones -= 1\n",
    "                queue.append([x, y, time + 1])\n",
    "                \n",
    "    if ones:\n",
    "        return -1\n",
    "    else:\n",
    "        return time\n",
    "    \n",
    "# Driver Code\n",
    "if __name__ == '__main__':\n",
    "    \n",
    "    tc = [[[2, 1, 1], [1, 1, 0], [0, 1, 1]],\n",
    "          [[2, 1, 1], [0, 1, 1], [1, 0, 1]],\n",
    "          [[0, 2]]]\n",
    "    for matrix in tc:\n",
    "        print(rotten_oranges(matrix))"
   ]
  }
 ],
 "metadata": {
  "kernelspec": {
   "display_name": "Python 3 (ipykernel)",
   "language": "python",
   "name": "python3"
  },
  "language_info": {
   "codemirror_mode": {
    "name": "ipython",
    "version": 3
   },
   "file_extension": ".py",
   "mimetype": "text/x-python",
   "name": "python",
   "nbconvert_exporter": "python",
   "pygments_lexer": "ipython3",
   "version": "3.9.10"
  }
 },
 "nbformat": 4,
 "nbformat_minor": 5
}
