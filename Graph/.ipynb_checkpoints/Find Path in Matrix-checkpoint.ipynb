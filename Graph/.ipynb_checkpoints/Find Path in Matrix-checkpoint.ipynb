{
 "cells": [
  {
   "cell_type": "code",
   "execution_count": 4,
   "id": "46410e27",
   "metadata": {},
   "outputs": [
    {
     "name": "stdout",
     "output_type": "stream",
     "text": [
      "True\n"
     ]
    }
   ],
   "source": [
    "from collections import deque\n",
    "\n",
    "def find_path(matrix):\n",
    "    if not matrix or matrix[0][0]:\n",
    "        return False\n",
    "    X = [-1, 0, 0, 1]\n",
    "    Y = [0, -1, 1, 0]\n",
    "    m, n = len(matrix), len(matrix[0])\n",
    "    visited = set()\n",
    "    queue = deque([[0, 0]])\n",
    "    \n",
    "    while queue:\n",
    "        i, j = queue.popleft()\n",
    "        if(i, j) == (m -1, n -1):\n",
    "            return True\n",
    "        \n",
    "        for k in range(4):\n",
    "            x = i + X[k]\n",
    "            y = j + Y[k]\n",
    "            \n",
    "            if (0 <= x < m) and (0 <= y < n):\n",
    "                if (x, y) in visited:\n",
    "                    continue\n",
    "                queue.append([x, y])\n",
    "                visited.add((x, y))\n",
    "                \n",
    "    return False\n",
    "\n",
    "# Driver Code\n",
    "if __name__ == '__main__':\n",
    "    \n",
    "    matrix = [[0, 0, 0, 1, 0],\n",
    "              [1, 0, 0, 1, 1],\n",
    "              [0, 0, 0, 1, 0],\n",
    "              [1, 0, 1, 0, 1],\n",
    "              [0, 0, 1, 0, 0]]\n",
    "#     TC: 2\n",
    "    \n",
    "#     matrix = [[1, 0, 0, 0, 0],\n",
    "#               [1, 0, 1, 1, 1],\n",
    "#               [1, 1, 1, 0, 1],\n",
    "#               [1, 0, 0, 0, 1],\n",
    "#               [1, 0, 0, 0, 1]]\n",
    "    \n",
    "    print(find_path(matrix))"
   ]
  }
 ],
 "metadata": {
  "kernelspec": {
   "display_name": "Python 3 (ipykernel)",
   "language": "python",
   "name": "python3"
  },
  "language_info": {
   "codemirror_mode": {
    "name": "ipython",
    "version": 3
   },
   "file_extension": ".py",
   "mimetype": "text/x-python",
   "name": "python",
   "nbconvert_exporter": "python",
   "pygments_lexer": "ipython3",
   "version": "3.9.10"
  }
 },
 "nbformat": 4,
 "nbformat_minor": 5
}
