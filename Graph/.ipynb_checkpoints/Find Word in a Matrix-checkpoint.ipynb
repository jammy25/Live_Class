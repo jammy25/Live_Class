{
 "cells": [
  {
   "cell_type": "code",
   "execution_count": 6,
   "id": "c2ae8fb5",
   "metadata": {},
   "outputs": [
    {
     "name": "stdout",
     "output_type": "stream",
     "text": [
      "['GEEKS', 'QUIZ']\n"
     ]
    }
   ],
   "source": [
    "class TrieNode:\n",
    "    def __init__(self):\n",
    "        self.children = {}\n",
    "        self.end_of_word = False\n",
    "        \n",
    "class Trie:\n",
    "    def __init__(self):\n",
    "        self.root = TrieNode()\n",
    "        \n",
    "    def insert(self, word):\n",
    "        ptr = self.root\n",
    "        for ch in word:\n",
    "            if not ptr.children.get(ch):\n",
    "                ptr.children[ch] = TrieNode()\n",
    "            ptr = ptr.children[ch]\n",
    "        ptr.end_of_word = True    \n",
    "    \n",
    "def find_word_in_matrix(matrix, dictionary):\n",
    "    X = [-1, -1, -1, 0, 0, 1, 1, 1]\n",
    "    Y = [-1, 0, 1, -1, 1, -1, 0, 1]\n",
    "    def dfs(root, word, i, j):\n",
    "        if root.end_of_word:\n",
    "            words.append(word)\n",
    "        for k in range(8):\n",
    "            x, y = i + X[k], j + Y[k]\n",
    "            if 0 <= x < m and 0 <= y < n and root.children.get(matrix[x][y]):\n",
    "                ch = matrix[x][y]\n",
    "                matrix[x][y] = '.'\n",
    "                dfs(root.children[ch], word + ch, x, y)\n",
    "                ch = matrix[x][y]\n",
    "\n",
    "    m, n = len(matrix), len(matrix[0])\n",
    "    words = []\n",
    "    trie = Trie()\n",
    "    for word in dictionary:\n",
    "        trie.insert(word)\n",
    "\n",
    "    root = trie.root\n",
    "    for i in range(m):\n",
    "        for j in range(n):\n",
    "            if root.children.get(matrix[i][j]):\n",
    "                ch = matrix[i][j]\n",
    "                matrix[i][j] = '.'\n",
    "                dfs(root.children[ch], ch, i, j)\n",
    "                matrix[i][j] = ch\n",
    "    return list(set(words))\n",
    "        \n",
    "# Driver Code\n",
    "if __name__ == '__main__':\n",
    "    matrix = [['G', 'I', 'Z'], ['U', 'E', 'K'], ['Q', 'S', 'E']]\n",
    "    dictionary = ['GEEKS', 'FOR', 'QUIZ', 'GO']\n",
    "    print(find_word_in_matrix(matrix, dictionary))"
   ]
  }
 ],
 "metadata": {
  "kernelspec": {
   "display_name": "Python 3 (ipykernel)",
   "language": "python",
   "name": "python3"
  },
  "language_info": {
   "codemirror_mode": {
    "name": "ipython",
    "version": 3
   },
   "file_extension": ".py",
   "mimetype": "text/x-python",
   "name": "python",
   "nbconvert_exporter": "python",
   "pygments_lexer": "ipython3",
   "version": "3.9.10"
  }
 },
 "nbformat": 4,
 "nbformat_minor": 5
}
