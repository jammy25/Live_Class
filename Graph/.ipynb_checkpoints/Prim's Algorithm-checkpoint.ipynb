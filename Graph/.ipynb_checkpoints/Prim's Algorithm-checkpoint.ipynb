{
 "cells": [
  {
   "cell_type": "code",
   "execution_count": 5,
   "id": "2c8062b2",
   "metadata": {},
   "outputs": [
    {
     "name": "stdout",
     "output_type": "stream",
     "text": [
      "16\n"
     ]
    }
   ],
   "source": [
    "from collections import defaultdict\n",
    "from heapq import heappush, heappop\n",
    "\n",
    "def primAlgo(graph):\n",
    "    min_heap = []\n",
    "    n = len(graph)\n",
    "    weights = [float('inf') for _ in range(n)]\n",
    "    parent = [(-1) for _ in range(n)]\n",
    "    mstSet = [False for _ in range(n)]\n",
    "    \n",
    "    heappush(min_heap, (0, 0))\n",
    "    \n",
    "    weights[0] = 0\n",
    "    \n",
    "    while min_heap:\n",
    "        weight, node = heappop(min_heap)\n",
    "        \n",
    "        for u, w in graph[node]:\n",
    "            if mstSet[u] == False and w < weights[u]:\n",
    "                parent[u] = u\n",
    "                weights[u] = w\n",
    "                heappush(min_heap, (weights[u], u))\n",
    "    return sum(weights[1:])\n",
    "\n",
    "# Driver Code\n",
    "if __name__ == '__main__':\n",
    "    edges = [[0, 1, 2], [0, 3, 6], [1, 0, 2], [1, 2, 3], [1, 3, 8], [1, 4, 5], [2, 1, 3],\n",
    "             [2, 4, 7], [3, 0, 6], [3, 1, 8], [3, 4, 9], [4, 1, 5], [4, 2, 7], [4, 3, 9]]\n",
    "    graph = defaultdict(list)\n",
    "    for u, v, w in edges:\n",
    "        graph[u].append((v, w))\n",
    "        graph[v].append((u, w))\n",
    "        \n",
    "    print(primAlgo(graph))"
   ]
  }
 ],
 "metadata": {
  "kernelspec": {
   "display_name": "Python 3 (ipykernel)",
   "language": "python",
   "name": "python3"
  },
  "language_info": {
   "codemirror_mode": {
    "name": "ipython",
    "version": 3
   },
   "file_extension": ".py",
   "mimetype": "text/x-python",
   "name": "python",
   "nbconvert_exporter": "python",
   "pygments_lexer": "ipython3",
   "version": "3.9.10"
  }
 },
 "nbformat": 4,
 "nbformat_minor": 5
}
