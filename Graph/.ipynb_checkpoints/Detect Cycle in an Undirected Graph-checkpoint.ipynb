{
 "cells": [
  {
   "cell_type": "code",
   "execution_count": 9,
   "id": "58f8c059",
   "metadata": {},
   "outputs": [
    {
     "name": "stdout",
     "output_type": "stream",
     "text": [
      "Graph contains cycle\n"
     ]
    }
   ],
   "source": [
    "from collections import defaultdict\n",
    "\n",
    "class Graph():\n",
    "    def __init__(self, n):\n",
    "        self.graph = defaultdict(list)\n",
    "        self.n = n\n",
    "        \n",
    "    def add_edge(self, u, v):\n",
    "        self.graph[u].append(v)\n",
    "        self.graph[v].append(u)\n",
    "        \n",
    "    def DFS(self, u, parent, visited):\n",
    "        visited.add(u)\n",
    "        for v in self.graph[u]:\n",
    "            if (v == parent):\n",
    "                continue\n",
    "            if (v in visited):\n",
    "                return True\n",
    "            if self.DFS(v, u, visited):\n",
    "                return True\n",
    "        return False\n",
    "    \n",
    "    def is_cycle(self):\n",
    "        visited = set()\n",
    "        for u in self.graph:\n",
    "            if u in visited:\n",
    "                continue\n",
    "            if self.DFS(u, None, visited):\n",
    "                return True\n",
    "        return False\n",
    "    \n",
    "# Driver Code\n",
    "if __name__ == '__main__':\n",
    "    g = Graph(5)\n",
    "    g.add_edge(1, 0)\n",
    "    g.add_edge(1, 2)\n",
    "    g.add_edge(2, 0)\n",
    "    g.add_edge(0, 3)\n",
    "    g.add_edge(3, 4)\n",
    "    \n",
    "    if g.is_cycle():\n",
    "        print(\"Graph contains cycle\")\n",
    "    else:\n",
    "        print(\"Graph does not contain cycle\")"
   ]
  }
 ],
 "metadata": {
  "kernelspec": {
   "display_name": "Python 3 (ipykernel)",
   "language": "python",
   "name": "python3"
  },
  "language_info": {
   "codemirror_mode": {
    "name": "ipython",
    "version": 3
   },
   "file_extension": ".py",
   "mimetype": "text/x-python",
   "name": "python",
   "nbconvert_exporter": "python",
   "pygments_lexer": "ipython3",
   "version": "3.9.10"
  }
 },
 "nbformat": 4,
 "nbformat_minor": 5
}
