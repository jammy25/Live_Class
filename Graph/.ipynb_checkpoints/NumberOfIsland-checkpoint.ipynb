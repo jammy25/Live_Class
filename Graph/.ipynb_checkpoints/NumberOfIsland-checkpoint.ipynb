{
 "cells": [
  {
   "cell_type": "code",
   "execution_count": 9,
   "id": "5a7156eb",
   "metadata": {},
   "outputs": [
    {
     "name": "stdout",
     "output_type": "stream",
     "text": [
      "3\n"
     ]
    }
   ],
   "source": [
    "from collections import deque\n",
    "\n",
    "def num_islands(matrix):\n",
    "    X = [-1, 0, 0, 1]\n",
    "    Y = [0, -1, 1, 0]\n",
    "    visited = set()\n",
    "    \n",
    "    def bfs(i, j):\n",
    "        queue = deque([[i, j]])\n",
    "        visited.add((i, j))\n",
    "        while queue:\n",
    "            i, j = queue.popleft()\n",
    "            for k in range(4):\n",
    "                x = i + X[k]\n",
    "                y = j + Y[k]\n",
    "                if (0 <= x < m) and (0 <= y < n) and matrix[x][y]:\n",
    "                    if (x, y) in visited:\n",
    "                        continue\n",
    "                    queue.append([x, y])\n",
    "                    visited.add((x, y))\n",
    "                \n",
    "    m, n = len(matrix), len(matrix[0])\n",
    "    island = 0\n",
    "    for i in range(m):\n",
    "        for j in range(n):\n",
    "            if matrix[i][j] and (i, j) not in visited:\n",
    "                bfs(i, j)\n",
    "                island += 1\n",
    "    return island\n",
    "\n",
    "# Driver Code\n",
    "if __name__ == '__main__':\n",
    "    \n",
    "    matrix = [[1, 1, 1, 1, 0],\n",
    "              [1, 1, 0, 1, 0],\n",
    "              [1, 1, 0, 0, 1],\n",
    "              [0, 0, 1, 1, 0]]\n",
    "    print(num_islands(matrix))"
   ]
  }
 ],
 "metadata": {
  "kernelspec": {
   "display_name": "Python 3 (ipykernel)",
   "language": "python",
   "name": "python3"
  },
  "language_info": {
   "codemirror_mode": {
    "name": "ipython",
    "version": 3
   },
   "file_extension": ".py",
   "mimetype": "text/x-python",
   "name": "python",
   "nbconvert_exporter": "python",
   "pygments_lexer": "ipython3",
   "version": "3.9.10"
  }
 },
 "nbformat": 4,
 "nbformat_minor": 5
}
