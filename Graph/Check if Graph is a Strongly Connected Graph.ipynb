{
 "cells": [
  {
   "cell_type": "markdown",
   "id": "f672ecfd",
   "metadata": {},
   "source": [
    "### DFS"
   ]
  },
  {
   "cell_type": "code",
   "execution_count": 12,
   "id": "489485db",
   "metadata": {},
   "outputs": [
    {
     "name": "stdout",
     "output_type": "stream",
     "text": [
      "Graph is strongly connected\n",
      "Graph is not strongly connected\n"
     ]
    }
   ],
   "source": [
    "from collections import defaultdict\n",
    "\n",
    "class Graph():\n",
    "    def __init__ (self, n):\n",
    "        self.graph = defaultdict(list)\n",
    "        self.n = n\n",
    "        \n",
    "    def add_edge(self, u, v):\n",
    "        self.graph[u].append(v)\n",
    "        \n",
    "    def dfs(self, u, visited):\n",
    "        visited.add(u)\n",
    "        for v in self.graph[u]:\n",
    "            if v not in visited:\n",
    "                self.dfs(v, visited)\n",
    "    \n",
    "    def is_strongly_connected(self):\n",
    "        for node in range(self.n):\n",
    "            visited = set()\n",
    "            self.dfs(node, visited)\n",
    "            if len(visited) < self.n:\n",
    "                return False\n",
    "        return True\n",
    "        \n",
    "# Driver Code\n",
    "if __name__ == '__main__':\n",
    "    \n",
    "    g1 = Graph(5)\n",
    "    g1.add_edge(0, 1)\n",
    "    g1.add_edge(1, 2)\n",
    "    g1.add_edge(2, 3)\n",
    "    g1.add_edge(3, 0)\n",
    "    g1.add_edge(2, 4)\n",
    "    g1.add_edge(4, 2)\n",
    "    \n",
    "    if g1.is_strongly_connected():\n",
    "        print(\"Graph is strongly connected\")\n",
    "    else:\n",
    "        print(\"Graph is not strongly connected\")\n",
    "        \n",
    "    g2 = Graph(4)\n",
    "    g2.add_edge(0, 1)\n",
    "    g2.add_edge(1, 2)\n",
    "    g2.add_edge(2, 3)\n",
    "    \n",
    "    if g2.is_strongly_connected():\n",
    "        print(\"Graph is strongly connected\")\n",
    "    else:\n",
    "        print(\"Graph is not strongly connected\")"
   ]
  },
  {
   "cell_type": "markdown",
   "id": "a1d04a2a",
   "metadata": {},
   "source": [
    "### Kosaraju's Algorithm"
   ]
  },
  {
   "cell_type": "code",
   "execution_count": 3,
   "id": "b7f66957",
   "metadata": {},
   "outputs": [
    {
     "name": "stdout",
     "output_type": "stream",
     "text": [
      "Graph is not strongly connected\n"
     ]
    }
   ],
   "source": [
    "from collections import defaultdict\n",
    "\n",
    "class Graph:\n",
    "    def __init__(self, n):\n",
    "        self.graph = defaultdict(list)\n",
    "        self.n = n\n",
    "        \n",
    "    def add_edge(self, u, v):\n",
    "        self.graph[u].append(v)\n",
    "        \n",
    "    def DFS(self, u, visited):\n",
    "        visited.add(u)\n",
    "        for v in self.graph[u]:\n",
    "            if v not in visited:\n",
    "                self.DFS(v, visited)\n",
    "                \n",
    "    def transpose(self):\n",
    "        t_graph = defaultdict(list)\n",
    "        for u in self.graph:\n",
    "            for v in self.graph[u]:\n",
    "                t_graph[v].append(u)\n",
    "        self.graph = t_graph\n",
    "        \n",
    "    def is_strongly_connected(self):\n",
    "        visited = set()\n",
    "        self.DFS(0, visited)\n",
    "        if len(visited) < self.n:\n",
    "            return False\n",
    "        self.transpose()\n",
    "        visited = set()\n",
    "        self.DFS(0, visited)\n",
    "        if len(visited) < self.n:\n",
    "            return False\n",
    "        return True\n",
    "\n",
    "# Driver code\n",
    "if __name__ == '__main__':\n",
    "    \n",
    "#     TC: 1\n",
    "#     g = Graph(5)\n",
    "#     g.add_edge(0, 1)\n",
    "#     g.add_edge(1, 2)\n",
    "#     g.add_edge(2, 3)\n",
    "#     g.add_edge(3, 0)\n",
    "#     g.add_edge(2, 4)\n",
    "#     g.add_edge(4, 2)\n",
    "    \n",
    "#     TC: 2\n",
    "    g = Graph(4)\n",
    "    g.add_edge(0, 1)\n",
    "    g.add_edge(1, 2)\n",
    "    g.add_edge(2, 3)\n",
    "    \n",
    "    if g.is_strongly_connected():\n",
    "        print(\"Graph is strongly connected\")\n",
    "    else:\n",
    "        print(\"Graph is not strongly connected\")"
   ]
  }
 ],
 "metadata": {
  "kernelspec": {
   "display_name": "Python 3 (ipykernel)",
   "language": "python",
   "name": "python3"
  },
  "language_info": {
   "codemirror_mode": {
    "name": "ipython",
    "version": 3
   },
   "file_extension": ".py",
   "mimetype": "text/x-python",
   "name": "python",
   "nbconvert_exporter": "python",
   "pygments_lexer": "ipython3",
   "version": "3.9.10"
  }
 },
 "nbformat": 4,
 "nbformat_minor": 5
}
