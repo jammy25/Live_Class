{
 "cells": [
  {
   "cell_type": "code",
   "execution_count": 1,
   "id": "c8fbca03",
   "metadata": {},
   "outputs": [
    {
     "name": "stdout",
     "output_type": "stream",
     "text": [
      "Graph does not contain cycle\n"
     ]
    }
   ],
   "source": [
    "from collections import defaultdict\n",
    "\n",
    "class Graph:\n",
    "    def __init__(self, n):\n",
    "        self.graph = defaultdict(list)\n",
    "        self.n = n\n",
    "    \n",
    "\n",
    "    def add_edge(self, u, v):\n",
    "        self.graph[u].append(v)\n",
    "        \n",
    "    def DFS(self, u, visited, seen):\n",
    "        visited[u] = True\n",
    "        seen[u] = True\n",
    "        for v in self.graph[u]:\n",
    "            if visited[v] == False:\n",
    "                if self.DFS(v, visited, seen):\n",
    "                    return True\n",
    "            if seen[v] == True:\n",
    "                return True\n",
    "        seen[u] = False\n",
    "        return False            \n",
    "    \n",
    "    def is_cycle(self):\n",
    "        visited = [False] * (self.n)\n",
    "        seen = [False] * (self.n)\n",
    "        \n",
    "        for u in range(self.n):\n",
    "            if visited[u] == False:\n",
    "                if self.DFS(u, visited, seen):\n",
    "                    return True\n",
    "        return False\n",
    "\n",
    "# Driver Code\n",
    "if __name__ == '__main__':\n",
    "    g = Graph(6)\n",
    "    g.add_edge(0, 1)\n",
    "    g.add_edge(1, 2)\n",
    "#     g.add_edge(2, 3)\n",
    "    g.add_edge(3, 4)\n",
    "    g.add_edge(4, 1)\n",
    "    g.add_edge(3, 5)\n",
    "#     g.add_edge(5, 5)\n",
    "    \n",
    "    if g.is_cycle():\n",
    "        print(\"Graph contains cycle\")\n",
    "    else:\n",
    "        print(\"Graph does not contain cycle\")"
   ]
  },
  {
   "cell_type": "markdown",
   "id": "11654f60",
   "metadata": {},
   "source": [
    "### Same Code with different syntax"
   ]
  },
  {
   "cell_type": "code",
   "execution_count": 18,
   "id": "b1421169",
   "metadata": {},
   "outputs": [
    {
     "name": "stdout",
     "output_type": "stream",
     "text": [
      "Graph does not contain cycle\n"
     ]
    }
   ],
   "source": [
    "from collections import defaultdict\n",
    "\n",
    "class Graph:\n",
    "    def __init__(self, n):\n",
    "        self.graph = defaultdict(list)\n",
    "        self.n = n\n",
    "        \n",
    "    def add_edge(self, u, v):\n",
    "        self.graph[u].append(v)\n",
    "        \n",
    "    def dfs(self, u, visited, seen):\n",
    "        seen.add(u)\n",
    "        visited.add(u)\n",
    "        for v in self.graph[u]:\n",
    "            if v in seen:\n",
    "                return True\n",
    "            if v in visited:\n",
    "                continue\n",
    "            if self.dfs(v, visited, seen):\n",
    "                return True\n",
    "\n",
    "        seen.remove(u)\n",
    "        \n",
    "    def is_cycle(self):\n",
    "        visited, seen = set(), set()\n",
    "        for u in range(self.n):\n",
    "            if u in visited:\n",
    "                continue\n",
    "            if self.dfs(u, visited, seen):\n",
    "                return True\n",
    "        return False\n",
    "        \n",
    "# Driver Code\n",
    "if __name__ == '__main__':\n",
    "    g = Graph(6)\n",
    "    g.add_edge(0, 1)\n",
    "    g.add_edge(1, 2)\n",
    "    g.add_edge(2, 3)\n",
    "#     g.add_edge(3, 4)\n",
    "    g.add_edge(4, 1)\n",
    "    g.add_edge(3, 5)\n",
    "#     g.add_edge(5, 5)\n",
    "\n",
    "    if g.is_cycle():\n",
    "        print(\"Graph contains cycle\")\n",
    "    else:\n",
    "        print(\"Graph does not contain cycle\")"
   ]
  },
  {
   "cell_type": "markdown",
   "id": "a9327c6f",
   "metadata": {},
   "source": [
    "### Shorter code"
   ]
  },
  {
   "cell_type": "code",
   "execution_count": 25,
   "id": "84233e4e",
   "metadata": {},
   "outputs": [
    {
     "name": "stdout",
     "output_type": "stream",
     "text": [
      "False\n"
     ]
    }
   ],
   "source": [
    "from collections import defaultdict\n",
    "\n",
    "def isCycle(n, graph):\n",
    "    def dfs(u):\n",
    "        seen.add(u)\n",
    "        visited.add(u)\n",
    "        for v in graph[u]:\n",
    "            if v in seen:\n",
    "                return True\n",
    "            if v in visited:\n",
    "                continue\n",
    "            if dfs(v):\n",
    "                return True\n",
    "        \n",
    "        seen.remove(u)\n",
    "    \n",
    "    seen, visited = set(), set()\n",
    "    for u in range(n):\n",
    "        if u in visited:\n",
    "            continue\n",
    "        if dfs(u):\n",
    "            return True\n",
    "    return False\n",
    "\n",
    "# Driver Code\n",
    "if __name__ == '__main__':\n",
    "    graph = defaultdict(list)\n",
    "    graph[0].append(1)\n",
    "    graph[0].append(2)\n",
    "    graph[1].append(2)\n",
    "#     graph[2].append(0)\n",
    "    graph[2].append(3)\n",
    "#     graph[3].append(3)\n",
    "    \n",
    "    print(isCycle(4, graph))"
   ]
  }
 ],
 "metadata": {
  "kernelspec": {
   "display_name": "Python 3 (ipykernel)",
   "language": "python",
   "name": "python3"
  },
  "language_info": {
   "codemirror_mode": {
    "name": "ipython",
    "version": 3
   },
   "file_extension": ".py",
   "mimetype": "text/x-python",
   "name": "python",
   "nbconvert_exporter": "python",
   "pygments_lexer": "ipython3",
   "version": "3.9.10"
  }
 },
 "nbformat": 4,
 "nbformat_minor": 5
}
