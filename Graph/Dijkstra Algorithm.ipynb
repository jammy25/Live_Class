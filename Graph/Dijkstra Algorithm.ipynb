{
 "cells": [
  {
   "cell_type": "code",
   "execution_count": 8,
   "id": "253f9628",
   "metadata": {},
   "outputs": [
    {
     "name": "stdout",
     "output_type": "stream",
     "text": [
      "[0, 2, 3, 8, 6, 9]\n"
     ]
    }
   ],
   "source": [
    "from heapq import heappush, heappop\n",
    "from collections import defaultdict\n",
    "\n",
    "class Graph:\n",
    "    def __init__(self, n):\n",
    "        self.n = n\n",
    "        self.graph = defaultdict(list)\n",
    "        \n",
    "    def add_edge(self, u, v, t):\n",
    "        self.graph[u].append([v, t])\n",
    "        \n",
    "    def dijkstra(self, u):\n",
    "        queue = [[0, u]]\n",
    "        distance = [float('inf')] * (self.n + 1)\n",
    "        distance[u] = 0\n",
    "        while queue:\n",
    "            time, u = heappop(queue)\n",
    "            for v, t in self.graph[u]:\n",
    "                if distance[v] <= (time + t):\n",
    "                    continue\n",
    "                heappush(queue, [time + t, v])\n",
    "                distance[v] = time + t\n",
    "        return distance\n",
    "    \n",
    "# Driver Code\n",
    "if __name__ == '__main__':\n",
    "    g = Graph(6)\n",
    "    g.add_edge(1, 2, 2)\n",
    "    g.add_edge(2, 3, 1)\n",
    "    g.add_edge(1, 3, 4)\n",
    "    g.add_edge(3, 5, 3)\n",
    "    g.add_edge(5, 6, 5)\n",
    "    g.add_edge(5, 4, 2)\n",
    "    g.add_edge(4, 6, 1)\n",
    "    g.add_edge(2, 4, 7)\n",
    "    g.add_edge(2, 1, 3)\n",
    "    \n",
    "    dv = g.dijkstra(1)\n",
    "    print(dv[1:])     "
   ]
  }
 ],
 "metadata": {
  "kernelspec": {
   "display_name": "Python 3 (ipykernel)",
   "language": "python",
   "name": "python3"
  },
  "language_info": {
   "codemirror_mode": {
    "name": "ipython",
    "version": 3
   },
   "file_extension": ".py",
   "mimetype": "text/x-python",
   "name": "python",
   "nbconvert_exporter": "python",
   "pygments_lexer": "ipython3",
   "version": "3.9.10"
  }
 },
 "nbformat": 4,
 "nbformat_minor": 5
}
