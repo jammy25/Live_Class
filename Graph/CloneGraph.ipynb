{
 "cells": [
  {
   "cell_type": "code",
   "execution_count": 13,
   "id": "3b4e926a",
   "metadata": {},
   "outputs": [
    {
     "name": "stdout",
     "output_type": "stream",
     "text": [
      "defaultdict(<class 'list'>, {1: [2, 4], 2: [1, 3], 4: [1, 3], 3: [2, 4]})\n"
     ]
    }
   ],
   "source": [
    "from collections import deque, defaultdict\n",
    "\n",
    "class Node:\n",
    "    def __init__(self, val, neighbors = []):\n",
    "        self.val = val\n",
    "        self.neighbors = []\n",
    "        \n",
    "    def bfs(node):\n",
    "        queue = deque([node])\n",
    "        seen = set()\n",
    "        seen.add(node)\n",
    "        graph = defaultdict(list)\n",
    "        while queue:\n",
    "            node = queue.popleft()\n",
    "            for neighbors in node.neighbors:\n",
    "                if neighbors not in seen:\n",
    "                    queue.append(neighbor)\n",
    "                    seen.add(neighbor)\n",
    "                graph[node.val].append(neighbor.val)\n",
    "        return graph\n",
    "\n",
    "# Driver Code\n",
    "if __name__ == '__main__':\n",
    "    adjList = [[2,4],[1,3],[2,4],[1,3]]\n",
    "    n = len(adjList)\n",
    "    nodes = [Node(i) for i in range(1, n + 1)]\n",
    "    for i in range(n):\n",
    "        for j in range(len(adjList[i])):\n",
    "            nodes[i].neighbors.append(nodes[adjList[i][j] - 1])\n",
    "    print(bfs(nodes[0]))"
   ]
  }
 ],
 "metadata": {
  "kernelspec": {
   "display_name": "Python 3 (ipykernel)",
   "language": "python",
   "name": "python3"
  },
  "language_info": {
   "codemirror_mode": {
    "name": "ipython",
    "version": 3
   },
   "file_extension": ".py",
   "mimetype": "text/x-python",
   "name": "python",
   "nbconvert_exporter": "python",
   "pygments_lexer": "ipython3",
   "version": "3.9.10"
  }
 },
 "nbformat": 4,
 "nbformat_minor": 5
}
