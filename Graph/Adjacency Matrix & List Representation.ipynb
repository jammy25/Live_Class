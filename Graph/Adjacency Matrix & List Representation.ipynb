{
 "cells": [
  {
   "cell_type": "code",
   "execution_count": 10,
   "id": "43bab120",
   "metadata": {},
   "outputs": [
    {
     "name": "stdout",
     "output_type": "stream",
     "text": [
      "0 1 0 0 1 \n",
      "1 0 1 1 1 \n",
      "0 1 0 1 0 \n",
      "0 1 1 0 1 \n",
      "1 1 0 1 0 \n"
     ]
    }
   ],
   "source": [
    "def add_edge(matrix, src, dest):\n",
    "    matrix[src][dest] = 1\n",
    "    matrix[dest][src] = 1\n",
    "    \n",
    "# Driver Code\n",
    "if __name__ == '__main__':\n",
    "    \n",
    "    matrix = []\n",
    "    r = 5\n",
    "    c = 5\n",
    "    \n",
    "    for i in range(r):\n",
    "        a = []\n",
    "        for j in range(c):\n",
    "            a.append(int())\n",
    "        matrix.append(a)\n",
    "        \n",
    "    add_edge(matrix, 0, 1)\n",
    "    add_edge(matrix, 0, 4)\n",
    "    add_edge(matrix, 1, 2)\n",
    "    add_edge(matrix, 1, 3)\n",
    "    add_edge(matrix, 1, 4)\n",
    "    add_edge(matrix, 2, 3)\n",
    "    add_edge(matrix, 3, 4)\n",
    "    \n",
    "    # To print matrix\n",
    "    for i in range(r):\n",
    "        for j in range(c):\n",
    "            print(matrix[i][j], end = \" \")\n",
    "        print()"
   ]
  },
  {
   "cell_type": "code",
   "execution_count": null,
   "id": "4744bb3f",
   "metadata": {},
   "outputs": [],
   "source": []
  }
 ],
 "metadata": {
  "kernelspec": {
   "display_name": "Python 3 (ipykernel)",
   "language": "python",
   "name": "python3"
  },
  "language_info": {
   "codemirror_mode": {
    "name": "ipython",
    "version": 3
   },
   "file_extension": ".py",
   "mimetype": "text/x-python",
   "name": "python",
   "nbconvert_exporter": "python",
   "pygments_lexer": "ipython3",
   "version": "3.9.10"
  }
 },
 "nbformat": 4,
 "nbformat_minor": 5
}
