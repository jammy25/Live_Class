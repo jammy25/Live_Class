{
 "cells": [
  {
   "cell_type": "code",
   "execution_count": 4,
   "id": "6192f0a6",
   "metadata": {},
   "outputs": [
    {
     "name": "stdout",
     "output_type": "stream",
     "text": [
      "['hel', 'hell', 'hello', 'help', 'helps', 'helping']\n"
     ]
    }
   ],
   "source": [
    "class TrieNode:\n",
    "    def __init__(self):\n",
    "        self.children = {}\n",
    "        self.end_of_word = False\n",
    "        \n",
    "class Trie:\n",
    "    def __init__(self):\n",
    "        self.root = TrieNode()\n",
    "        \n",
    "    def insert(self, word):\n",
    "        ptr = self.root\n",
    "        for ch in word:\n",
    "            if not ptr.children.get(ch):\n",
    "                ptr.children[ch] = TrieNode()\n",
    "            ptr = ptr.children[ch]\n",
    "        ptr.end_of_word = True\n",
    "        \n",
    "    def dfs(self, ptr, word):\n",
    "        if ptr.end_of_word:\n",
    "            self.suggestion.append(word)\n",
    "        for ch in ptr.children:\n",
    "            self.dfs(ptr.children[ch], word + ch)\n",
    "        \n",
    "    def auto_suggestion(self, word):\n",
    "        ptr = self.root\n",
    "        for ch in word:\n",
    "            if not ptr.children.get(ch):\n",
    "                return []\n",
    "            ptr = ptr.children[ch]\n",
    "        self.suggestion = []\n",
    "        self.dfs(ptr, word)\n",
    "        return self.suggestion\n",
    "        \n",
    "# Driver Code\n",
    "if __name__ == '__main__':\n",
    "    trie = Trie()\n",
    "    dictionary = [\"hello\", \"dog\", \"hell\", \"cat\", \"a\", \"hel\", \"help\", \"helps\", \"helping\"]\n",
    "    for word in dictionary:\n",
    "        trie.insert(word)\n",
    "    print(trie.auto_suggestion('hel'))"
   ]
  }
 ],
 "metadata": {
  "kernelspec": {
   "display_name": "Python 3 (ipykernel)",
   "language": "python",
   "name": "python3"
  },
  "language_info": {
   "codemirror_mode": {
    "name": "ipython",
    "version": 3
   },
   "file_extension": ".py",
   "mimetype": "text/x-python",
   "name": "python",
   "nbconvert_exporter": "python",
   "pygments_lexer": "ipython3",
   "version": "3.9.10"
  }
 },
 "nbformat": 4,
 "nbformat_minor": 5
}
