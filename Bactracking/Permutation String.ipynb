{
 "cells": [
  {
   "cell_type": "code",
   "execution_count": 1,
   "id": "60cb0d9b",
   "metadata": {},
   "outputs": [
    {
     "name": "stdout",
     "output_type": "stream",
     "text": [
      "['abc', 'acb', 'bac', 'bca', 'cba', 'cab']\n"
     ]
    }
   ],
   "source": [
    "def permutation(word, low, high):\n",
    "    if low == high:\n",
    "        res.append(''.join(word))\n",
    "        return\n",
    "    for i in range(low, high):\n",
    "        word[i], word[low] = word[low], word[i]\n",
    "        permutation(word, low + 1, high)\n",
    "        word[low], word[i] = word[i], word[low]\n",
    "        \n",
    "if __name__ == '__main__':\n",
    "    res = []\n",
    "    word = ['a', 'b', 'c']\n",
    "    permutation(word, 0, len(word))\n",
    "    print(res)"
   ]
  }
 ],
 "metadata": {
  "kernelspec": {
   "display_name": "Python 3 (ipykernel)",
   "language": "python",
   "name": "python3"
  },
  "language_info": {
   "codemirror_mode": {
    "name": "ipython",
    "version": 3
   },
   "file_extension": ".py",
   "mimetype": "text/x-python",
   "name": "python",
   "nbconvert_exporter": "python",
   "pygments_lexer": "ipython3",
   "version": "3.9.10"
  }
 },
 "nbformat": 4,
 "nbformat_minor": 5
}
