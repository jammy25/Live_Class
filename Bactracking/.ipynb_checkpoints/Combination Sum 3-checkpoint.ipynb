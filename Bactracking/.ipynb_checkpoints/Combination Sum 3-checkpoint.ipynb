{
 "cells": [
  {
   "cell_type": "code",
   "execution_count": 3,
   "id": "14e2375e",
   "metadata": {},
   "outputs": [
    {
     "name": "stdout",
     "output_type": "stream",
     "text": [
      "[[1, 2, 4]]\n",
      "[[1, 2, 6], [1, 3, 5], [2, 3, 4]]\n",
      "[]\n"
     ]
    }
   ],
   "source": [
    "def combination_sum3(k, n):\n",
    "    def comb_sum_III(nums, arr, k, n):\n",
    "        if not k and not n:\n",
    "            res.append(arr[:])\n",
    "            return\n",
    "        for i in range (len(nums)):\n",
    "            if nums[i] > n or k < 0:\n",
    "                break\n",
    "            comb_sum_III(nums[i + 1:], arr + [nums[i]], k - 1, n - nums[i])\n",
    "                \n",
    "    res = []\n",
    "    nums = [i for i in range(1, 10)]\n",
    "    comb_sum_III(nums, [], k, n)\n",
    "    return res\n",
    "\n",
    "# Driver Code\n",
    "\n",
    "if __name__ == '__main__':\n",
    "    tc = [[3, 7], \n",
    "          [3, 9],\n",
    "          [4, 1]]\n",
    "    for k, n in tc:\n",
    "        print(combination_sum3(k, n))"
   ]
  }
 ],
 "metadata": {
  "kernelspec": {
   "display_name": "Python 3 (ipykernel)",
   "language": "python",
   "name": "python3"
  },
  "language_info": {
   "codemirror_mode": {
    "name": "ipython",
    "version": 3
   },
   "file_extension": ".py",
   "mimetype": "text/x-python",
   "name": "python",
   "nbconvert_exporter": "python",
   "pygments_lexer": "ipython3",
   "version": "3.9.10"
  }
 },
 "nbformat": 4,
 "nbformat_minor": 5
}
