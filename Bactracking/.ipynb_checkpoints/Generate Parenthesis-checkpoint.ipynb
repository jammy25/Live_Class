{
 "cells": [
  {
   "cell_type": "code",
   "execution_count": 2,
   "id": "86292016",
   "metadata": {},
   "outputs": [
    {
     "name": "stdout",
     "output_type": "stream",
     "text": [
      "['((()))', '(()())', '(())()', '()(())', '()()()']\n",
      "['(())', '()()']\n"
     ]
    }
   ],
   "source": [
    "def parenthesis_comb(n):\n",
    "    def combinations(open_p = 0, close_p = 0, s = ''):\n",
    "        if close_p > open_p or open_p > n or close_p > n:\n",
    "            return\n",
    "        if open_p == close_p == n:\n",
    "            res.append(s)\n",
    "            return\n",
    "        combinations(open_p + 1, close_p, s + '(')\n",
    "        combinations(open_p, close_p + 1, s + ')')\n",
    "    res = []\n",
    "    combinations()\n",
    "    return res\n",
    "\n",
    "# Driver Code\n",
    "\n",
    "if __name__ == '__main__':\n",
    "    n = 3\n",
    "    n1 = 2\n",
    "    print(parenthesis_comb(n))\n",
    "    print(parenthesis_comb(n1))"
   ]
  }
 ],
 "metadata": {
  "kernelspec": {
   "display_name": "Python 3 (ipykernel)",
   "language": "python",
   "name": "python3"
  },
  "language_info": {
   "codemirror_mode": {
    "name": "ipython",
    "version": 3
   },
   "file_extension": ".py",
   "mimetype": "text/x-python",
   "name": "python",
   "nbconvert_exporter": "python",
   "pygments_lexer": "ipython3",
   "version": "3.9.10"
  }
 },
 "nbformat": 4,
 "nbformat_minor": 5
}
