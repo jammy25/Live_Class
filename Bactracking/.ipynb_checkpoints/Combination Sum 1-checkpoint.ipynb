{
 "cells": [
  {
   "cell_type": "code",
   "execution_count": 13,
   "id": "e5fc3313",
   "metadata": {},
   "outputs": [
    {
     "name": "stdout",
     "output_type": "stream",
     "text": [
      "[[2, 2, 2, 2], [2, 2, 4], [2, 6], [4, 4], [8]]\n",
      "[[2, 2, 3], [7]]\n"
     ]
    }
   ],
   "source": [
    "def combination_sum(arr, target):\n",
    "    res = []\n",
    "    ans = []\n",
    "    def combination_s(arr, target, res):\n",
    "        if target < 0:\n",
    "            return\n",
    "        if target == 0:\n",
    "            ans.append(res)\n",
    "            return\n",
    "        for i in range(len(arr)):\n",
    "            combination_s(arr[i:], target - arr[i], res + [arr[i]])\n",
    "    combination_s(arr, target, res)\n",
    "    return ans\n",
    "\n",
    "# Driver Code\n",
    "if __name__ == '__main__':\n",
    "    \n",
    "    # TC1\n",
    "    arr1 = [2, 4, 6, 8]\n",
    "    target1 = 8\n",
    "    # TC2\n",
    "    arr2 = [2, 3, 6, 7]\n",
    "    target2 = 7\n",
    "\n",
    "    print(combination_sum(arr1, target1))\n",
    "    print(combination_sum(arr2, target2))    "
   ]
  }
 ],
 "metadata": {
  "kernelspec": {
   "display_name": "Python 3 (ipykernel)",
   "language": "python",
   "name": "python3"
  },
  "language_info": {
   "codemirror_mode": {
    "name": "ipython",
    "version": 3
   },
   "file_extension": ".py",
   "mimetype": "text/x-python",
   "name": "python",
   "nbconvert_exporter": "python",
   "pygments_lexer": "ipython3",
   "version": "3.9.10"
  }
 },
 "nbformat": 4,
 "nbformat_minor": 5
}
