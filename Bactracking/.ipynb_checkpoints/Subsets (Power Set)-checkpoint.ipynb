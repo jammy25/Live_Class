{
 "cells": [
  {
   "cell_type": "code",
   "execution_count": 2,
   "id": "1ac07f87",
   "metadata": {},
   "outputs": [
    {
     "name": "stdout",
     "output_type": "stream",
     "text": [
      "[[], [1], [1, 2], [1, 2, 3], [1, 3], [2], [2, 3], [3]]\n"
     ]
    }
   ],
   "source": [
    "def power_set(nums):\n",
    "    res = []\n",
    "    def combinations(nums, arr = []):\n",
    "        res.append(arr[:])\n",
    "        for i in range(len(nums)):\n",
    "            combinations(nums[i + 1:], arr + [nums[i]])\n",
    "    combinations(nums)\n",
    "    return res\n",
    "\n",
    "# Driver Code\n",
    "\n",
    "if __name__ == '__main__':\n",
    "    nums = [1, 2, 3]\n",
    "    print(power_set(nums))"
   ]
  }
 ],
 "metadata": {
  "kernelspec": {
   "display_name": "Python 3 (ipykernel)",
   "language": "python",
   "name": "python3"
  },
  "language_info": {
   "codemirror_mode": {
    "name": "ipython",
    "version": 3
   },
   "file_extension": ".py",
   "mimetype": "text/x-python",
   "name": "python",
   "nbconvert_exporter": "python",
   "pygments_lexer": "ipython3",
   "version": "3.9.10"
  }
 },
 "nbformat": 4,
 "nbformat_minor": 5
}
